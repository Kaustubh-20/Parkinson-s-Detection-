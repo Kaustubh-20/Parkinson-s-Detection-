{
  "nbformat": 4,
  "nbformat_minor": 0,
  "metadata": {
    "colab": {
      "provenance": [],
      "include_colab_link": true
    },
    "kernelspec": {
      "name": "python3",
      "display_name": "Python 3"
    },
    "language_info": {
      "name": "python"
    }
  },
  "cells": [
    {
      "cell_type": "markdown",
      "metadata": {
        "id": "view-in-github",
        "colab_type": "text"
      },
      "source": [
        "<a href=\"https://colab.research.google.com/github/Kaustubh-20/Parkinson-s-Detection-/blob/main/Parkinson's_using_mfcc.ipynb\" target=\"_parent\"><img src=\"https://colab.research.google.com/assets/colab-badge.svg\" alt=\"Open In Colab\"/></a>"
      ]
    },
    {
      "cell_type": "markdown",
      "source": [
        "# Importing the libraries"
      ],
      "metadata": {
        "id": "CrmoaRP78BS3"
      }
    },
    {
      "cell_type": "code",
      "execution_count": null,
      "metadata": {
        "id": "NpXnKFUyM6hB"
      },
      "outputs": [],
      "source": [
        "import pandas as pd\n",
        "import numpy as np\n",
        "from sklearn.metrics import accuracy_score\n",
        "from sklearn.model_selection import train_test_split\n",
        "import matplotlib.pyplot as plt\n",
        "import seaborn as sns\n",
        "from sklearn.tree import DecisionTreeClassifier\n",
        "from sklearn.preprocessing import StandardScaler"
      ]
    },
    {
      "cell_type": "markdown",
      "source": [
        "# Loading the datasets\n",
        "\n",
        "combining the datasets of both the labels to get a single dataset"
      ],
      "metadata": {
        "id": "f3ESt6XN8FcJ"
      }
    },
    {
      "cell_type": "code",
      "source": [
        "dataset1 = pd.read_csv('/content/with_mfcc.csv')\n",
        "dataset2 = pd.read_csv('/content/without_mfcc.csv')\n",
        "dataset3 = pd.read_csv('/content/without1.csv')"
      ],
      "metadata": {
        "id": "QkihqKK8NU0O"
      },
      "execution_count": null,
      "outputs": []
    },
    {
      "cell_type": "code",
      "source": [
        "dataset4 = pd.concat([dataset3,dataset2],ignore_index=True)"
      ],
      "metadata": {
        "id": "od_-uaOLNkVl"
      },
      "execution_count": null,
      "outputs": []
    },
    {
      "cell_type": "code",
      "source": [
        "dataset = pd.concat([dataset1,dataset4],ignore_index=True)"
      ],
      "metadata": {
        "id": "GZvsQnS1vULo"
      },
      "execution_count": null,
      "outputs": []
    },
    {
      "cell_type": "code",
      "source": [
        "dataset.head()"
      ],
      "metadata": {
        "colab": {
          "base_uri": "https://localhost:8080/",
          "height": 226
        },
        "id": "envmCz9POElh",
        "outputId": "c84d6639-1749-4c6c-d0de-4b1c71e7f363"
      },
      "execution_count": null,
      "outputs": [
        {
          "output_type": "execute_result",
          "data": {
            "text/plain": [
              "      mfcc_1     mfcc_2     mfcc_3     mfcc_4     mfcc_5     mfcc_6  \\\n",
              "0 -353.92786  144.98172  26.020050  21.522533  -3.699130   4.683847   \n",
              "1 -328.62960  168.83173  32.190613  17.249527 -18.965752   5.919417   \n",
              "2 -299.06592  192.28342  25.270367  13.604853 -29.437336  -6.524223   \n",
              "3 -284.52010  204.35788  19.984104  12.939314 -32.493927 -11.797026   \n",
              "4 -298.67865  209.96906  18.235895   7.632587 -32.741890 -11.919012   \n",
              "\n",
              "      mfcc_7     mfcc_8     mfcc_9    mfcc_10    mfcc_11    mfcc_12  \\\n",
              "0   2.830783   9.716072   1.401221  18.599320   7.314257  -4.424190   \n",
              "1   7.531969  16.393759 -17.239504  27.487430  10.769590 -13.002094   \n",
              "2  -9.418293  27.296314 -11.218386  28.964367  -4.643305 -19.708694   \n",
              "3 -16.918362  27.196249  -2.748695  30.439910  -6.206487 -23.864693   \n",
              "4 -11.373656  27.337416  -9.820459  34.323090   4.566948 -30.739025   \n",
              "\n",
              "     mfcc_13  label  \n",
              "0  12.652735      1  \n",
              "1  16.417362      1  \n",
              "2  18.943699      1  \n",
              "3  17.517965      1  \n",
              "4  16.957195      1  "
            ],
            "text/html": [
              "\n",
              "  <div id=\"df-080b50b2-de77-4a4a-9f65-006a8cc7458f\" class=\"colab-df-container\">\n",
              "    <div>\n",
              "<style scoped>\n",
              "    .dataframe tbody tr th:only-of-type {\n",
              "        vertical-align: middle;\n",
              "    }\n",
              "\n",
              "    .dataframe tbody tr th {\n",
              "        vertical-align: top;\n",
              "    }\n",
              "\n",
              "    .dataframe thead th {\n",
              "        text-align: right;\n",
              "    }\n",
              "</style>\n",
              "<table border=\"1\" class=\"dataframe\">\n",
              "  <thead>\n",
              "    <tr style=\"text-align: right;\">\n",
              "      <th></th>\n",
              "      <th>mfcc_1</th>\n",
              "      <th>mfcc_2</th>\n",
              "      <th>mfcc_3</th>\n",
              "      <th>mfcc_4</th>\n",
              "      <th>mfcc_5</th>\n",
              "      <th>mfcc_6</th>\n",
              "      <th>mfcc_7</th>\n",
              "      <th>mfcc_8</th>\n",
              "      <th>mfcc_9</th>\n",
              "      <th>mfcc_10</th>\n",
              "      <th>mfcc_11</th>\n",
              "      <th>mfcc_12</th>\n",
              "      <th>mfcc_13</th>\n",
              "      <th>label</th>\n",
              "    </tr>\n",
              "  </thead>\n",
              "  <tbody>\n",
              "    <tr>\n",
              "      <th>0</th>\n",
              "      <td>-353.92786</td>\n",
              "      <td>144.98172</td>\n",
              "      <td>26.020050</td>\n",
              "      <td>21.522533</td>\n",
              "      <td>-3.699130</td>\n",
              "      <td>4.683847</td>\n",
              "      <td>2.830783</td>\n",
              "      <td>9.716072</td>\n",
              "      <td>1.401221</td>\n",
              "      <td>18.599320</td>\n",
              "      <td>7.314257</td>\n",
              "      <td>-4.424190</td>\n",
              "      <td>12.652735</td>\n",
              "      <td>1</td>\n",
              "    </tr>\n",
              "    <tr>\n",
              "      <th>1</th>\n",
              "      <td>-328.62960</td>\n",
              "      <td>168.83173</td>\n",
              "      <td>32.190613</td>\n",
              "      <td>17.249527</td>\n",
              "      <td>-18.965752</td>\n",
              "      <td>5.919417</td>\n",
              "      <td>7.531969</td>\n",
              "      <td>16.393759</td>\n",
              "      <td>-17.239504</td>\n",
              "      <td>27.487430</td>\n",
              "      <td>10.769590</td>\n",
              "      <td>-13.002094</td>\n",
              "      <td>16.417362</td>\n",
              "      <td>1</td>\n",
              "    </tr>\n",
              "    <tr>\n",
              "      <th>2</th>\n",
              "      <td>-299.06592</td>\n",
              "      <td>192.28342</td>\n",
              "      <td>25.270367</td>\n",
              "      <td>13.604853</td>\n",
              "      <td>-29.437336</td>\n",
              "      <td>-6.524223</td>\n",
              "      <td>-9.418293</td>\n",
              "      <td>27.296314</td>\n",
              "      <td>-11.218386</td>\n",
              "      <td>28.964367</td>\n",
              "      <td>-4.643305</td>\n",
              "      <td>-19.708694</td>\n",
              "      <td>18.943699</td>\n",
              "      <td>1</td>\n",
              "    </tr>\n",
              "    <tr>\n",
              "      <th>3</th>\n",
              "      <td>-284.52010</td>\n",
              "      <td>204.35788</td>\n",
              "      <td>19.984104</td>\n",
              "      <td>12.939314</td>\n",
              "      <td>-32.493927</td>\n",
              "      <td>-11.797026</td>\n",
              "      <td>-16.918362</td>\n",
              "      <td>27.196249</td>\n",
              "      <td>-2.748695</td>\n",
              "      <td>30.439910</td>\n",
              "      <td>-6.206487</td>\n",
              "      <td>-23.864693</td>\n",
              "      <td>17.517965</td>\n",
              "      <td>1</td>\n",
              "    </tr>\n",
              "    <tr>\n",
              "      <th>4</th>\n",
              "      <td>-298.67865</td>\n",
              "      <td>209.96906</td>\n",
              "      <td>18.235895</td>\n",
              "      <td>7.632587</td>\n",
              "      <td>-32.741890</td>\n",
              "      <td>-11.919012</td>\n",
              "      <td>-11.373656</td>\n",
              "      <td>27.337416</td>\n",
              "      <td>-9.820459</td>\n",
              "      <td>34.323090</td>\n",
              "      <td>4.566948</td>\n",
              "      <td>-30.739025</td>\n",
              "      <td>16.957195</td>\n",
              "      <td>1</td>\n",
              "    </tr>\n",
              "  </tbody>\n",
              "</table>\n",
              "</div>\n",
              "    <div class=\"colab-df-buttons\">\n",
              "\n",
              "  <div class=\"colab-df-container\">\n",
              "    <button class=\"colab-df-convert\" onclick=\"convertToInteractive('df-080b50b2-de77-4a4a-9f65-006a8cc7458f')\"\n",
              "            title=\"Convert this dataframe to an interactive table.\"\n",
              "            style=\"display:none;\">\n",
              "\n",
              "  <svg xmlns=\"http://www.w3.org/2000/svg\" height=\"24px\" viewBox=\"0 -960 960 960\">\n",
              "    <path d=\"M120-120v-720h720v720H120Zm60-500h600v-160H180v160Zm220 220h160v-160H400v160Zm0 220h160v-160H400v160ZM180-400h160v-160H180v160Zm440 0h160v-160H620v160ZM180-180h160v-160H180v160Zm440 0h160v-160H620v160Z\"/>\n",
              "  </svg>\n",
              "    </button>\n",
              "\n",
              "  <style>\n",
              "    .colab-df-container {\n",
              "      display:flex;\n",
              "      gap: 12px;\n",
              "    }\n",
              "\n",
              "    .colab-df-convert {\n",
              "      background-color: #E8F0FE;\n",
              "      border: none;\n",
              "      border-radius: 50%;\n",
              "      cursor: pointer;\n",
              "      display: none;\n",
              "      fill: #1967D2;\n",
              "      height: 32px;\n",
              "      padding: 0 0 0 0;\n",
              "      width: 32px;\n",
              "    }\n",
              "\n",
              "    .colab-df-convert:hover {\n",
              "      background-color: #E2EBFA;\n",
              "      box-shadow: 0px 1px 2px rgba(60, 64, 67, 0.3), 0px 1px 3px 1px rgba(60, 64, 67, 0.15);\n",
              "      fill: #174EA6;\n",
              "    }\n",
              "\n",
              "    .colab-df-buttons div {\n",
              "      margin-bottom: 4px;\n",
              "    }\n",
              "\n",
              "    [theme=dark] .colab-df-convert {\n",
              "      background-color: #3B4455;\n",
              "      fill: #D2E3FC;\n",
              "    }\n",
              "\n",
              "    [theme=dark] .colab-df-convert:hover {\n",
              "      background-color: #434B5C;\n",
              "      box-shadow: 0px 1px 3px 1px rgba(0, 0, 0, 0.15);\n",
              "      filter: drop-shadow(0px 1px 2px rgba(0, 0, 0, 0.3));\n",
              "      fill: #FFFFFF;\n",
              "    }\n",
              "  </style>\n",
              "\n",
              "    <script>\n",
              "      const buttonEl =\n",
              "        document.querySelector('#df-080b50b2-de77-4a4a-9f65-006a8cc7458f button.colab-df-convert');\n",
              "      buttonEl.style.display =\n",
              "        google.colab.kernel.accessAllowed ? 'block' : 'none';\n",
              "\n",
              "      async function convertToInteractive(key) {\n",
              "        const element = document.querySelector('#df-080b50b2-de77-4a4a-9f65-006a8cc7458f');\n",
              "        const dataTable =\n",
              "          await google.colab.kernel.invokeFunction('convertToInteractive',\n",
              "                                                    [key], {});\n",
              "        if (!dataTable) return;\n",
              "\n",
              "        const docLinkHtml = 'Like what you see? Visit the ' +\n",
              "          '<a target=\"_blank\" href=https://colab.research.google.com/notebooks/data_table.ipynb>data table notebook</a>'\n",
              "          + ' to learn more about interactive tables.';\n",
              "        element.innerHTML = '';\n",
              "        dataTable['output_type'] = 'display_data';\n",
              "        await google.colab.output.renderOutput(dataTable, element);\n",
              "        const docLink = document.createElement('div');\n",
              "        docLink.innerHTML = docLinkHtml;\n",
              "        element.appendChild(docLink);\n",
              "      }\n",
              "    </script>\n",
              "  </div>\n",
              "\n",
              "\n",
              "<div id=\"df-3a46a255-1cb0-43c0-b6b3-deb6ad68b528\">\n",
              "  <button class=\"colab-df-quickchart\" onclick=\"quickchart('df-3a46a255-1cb0-43c0-b6b3-deb6ad68b528')\"\n",
              "            title=\"Suggest charts\"\n",
              "            style=\"display:none;\">\n",
              "\n",
              "<svg xmlns=\"http://www.w3.org/2000/svg\" height=\"24px\"viewBox=\"0 0 24 24\"\n",
              "     width=\"24px\">\n",
              "    <g>\n",
              "        <path d=\"M19 3H5c-1.1 0-2 .9-2 2v14c0 1.1.9 2 2 2h14c1.1 0 2-.9 2-2V5c0-1.1-.9-2-2-2zM9 17H7v-7h2v7zm4 0h-2V7h2v10zm4 0h-2v-4h2v4z\"/>\n",
              "    </g>\n",
              "</svg>\n",
              "  </button>\n",
              "\n",
              "<style>\n",
              "  .colab-df-quickchart {\n",
              "      --bg-color: #E8F0FE;\n",
              "      --fill-color: #1967D2;\n",
              "      --hover-bg-color: #E2EBFA;\n",
              "      --hover-fill-color: #174EA6;\n",
              "      --disabled-fill-color: #AAA;\n",
              "      --disabled-bg-color: #DDD;\n",
              "  }\n",
              "\n",
              "  [theme=dark] .colab-df-quickchart {\n",
              "      --bg-color: #3B4455;\n",
              "      --fill-color: #D2E3FC;\n",
              "      --hover-bg-color: #434B5C;\n",
              "      --hover-fill-color: #FFFFFF;\n",
              "      --disabled-bg-color: #3B4455;\n",
              "      --disabled-fill-color: #666;\n",
              "  }\n",
              "\n",
              "  .colab-df-quickchart {\n",
              "    background-color: var(--bg-color);\n",
              "    border: none;\n",
              "    border-radius: 50%;\n",
              "    cursor: pointer;\n",
              "    display: none;\n",
              "    fill: var(--fill-color);\n",
              "    height: 32px;\n",
              "    padding: 0;\n",
              "    width: 32px;\n",
              "  }\n",
              "\n",
              "  .colab-df-quickchart:hover {\n",
              "    background-color: var(--hover-bg-color);\n",
              "    box-shadow: 0 1px 2px rgba(60, 64, 67, 0.3), 0 1px 3px 1px rgba(60, 64, 67, 0.15);\n",
              "    fill: var(--button-hover-fill-color);\n",
              "  }\n",
              "\n",
              "  .colab-df-quickchart-complete:disabled,\n",
              "  .colab-df-quickchart-complete:disabled:hover {\n",
              "    background-color: var(--disabled-bg-color);\n",
              "    fill: var(--disabled-fill-color);\n",
              "    box-shadow: none;\n",
              "  }\n",
              "\n",
              "  .colab-df-spinner {\n",
              "    border: 2px solid var(--fill-color);\n",
              "    border-color: transparent;\n",
              "    border-bottom-color: var(--fill-color);\n",
              "    animation:\n",
              "      spin 1s steps(1) infinite;\n",
              "  }\n",
              "\n",
              "  @keyframes spin {\n",
              "    0% {\n",
              "      border-color: transparent;\n",
              "      border-bottom-color: var(--fill-color);\n",
              "      border-left-color: var(--fill-color);\n",
              "    }\n",
              "    20% {\n",
              "      border-color: transparent;\n",
              "      border-left-color: var(--fill-color);\n",
              "      border-top-color: var(--fill-color);\n",
              "    }\n",
              "    30% {\n",
              "      border-color: transparent;\n",
              "      border-left-color: var(--fill-color);\n",
              "      border-top-color: var(--fill-color);\n",
              "      border-right-color: var(--fill-color);\n",
              "    }\n",
              "    40% {\n",
              "      border-color: transparent;\n",
              "      border-right-color: var(--fill-color);\n",
              "      border-top-color: var(--fill-color);\n",
              "    }\n",
              "    60% {\n",
              "      border-color: transparent;\n",
              "      border-right-color: var(--fill-color);\n",
              "    }\n",
              "    80% {\n",
              "      border-color: transparent;\n",
              "      border-right-color: var(--fill-color);\n",
              "      border-bottom-color: var(--fill-color);\n",
              "    }\n",
              "    90% {\n",
              "      border-color: transparent;\n",
              "      border-bottom-color: var(--fill-color);\n",
              "    }\n",
              "  }\n",
              "</style>\n",
              "\n",
              "  <script>\n",
              "    async function quickchart(key) {\n",
              "      const quickchartButtonEl =\n",
              "        document.querySelector('#' + key + ' button');\n",
              "      quickchartButtonEl.disabled = true;  // To prevent multiple clicks.\n",
              "      quickchartButtonEl.classList.add('colab-df-spinner');\n",
              "      try {\n",
              "        const charts = await google.colab.kernel.invokeFunction(\n",
              "            'suggestCharts', [key], {});\n",
              "      } catch (error) {\n",
              "        console.error('Error during call to suggestCharts:', error);\n",
              "      }\n",
              "      quickchartButtonEl.classList.remove('colab-df-spinner');\n",
              "      quickchartButtonEl.classList.add('colab-df-quickchart-complete');\n",
              "    }\n",
              "    (() => {\n",
              "      let quickchartButtonEl =\n",
              "        document.querySelector('#df-3a46a255-1cb0-43c0-b6b3-deb6ad68b528 button');\n",
              "      quickchartButtonEl.style.display =\n",
              "        google.colab.kernel.accessAllowed ? 'block' : 'none';\n",
              "    })();\n",
              "  </script>\n",
              "</div>\n",
              "\n",
              "    </div>\n",
              "  </div>\n"
            ],
            "application/vnd.google.colaboratory.intrinsic+json": {
              "type": "dataframe",
              "variable_name": "dataset",
              "summary": "{\n  \"name\": \"dataset\",\n  \"rows\": 2400,\n  \"fields\": [\n    {\n      \"column\": \"mfcc_1\",\n      \"properties\": {\n        \"dtype\": \"number\",\n        \"std\": 131.8024241612921,\n        \"min\": -678.2293,\n        \"max\": -130.50908,\n        \"num_unique_values\": 2398,\n        \"samples\": [\n          -519.519,\n          -662.3001,\n          -366.00748\n        ],\n        \"semantic_type\": \"\",\n        \"description\": \"\"\n      }\n    },\n    {\n      \"column\": \"mfcc_2\",\n      \"properties\": {\n        \"dtype\": \"number\",\n        \"std\": 71.55388627302875,\n        \"min\": -391.77307,\n        \"max\": 240.34714,\n        \"num_unique_values\": 2398,\n        \"samples\": [\n          13.83934,\n          24.561478,\n          109.94214\n        ],\n        \"semantic_type\": \"\",\n        \"description\": \"\"\n      }\n    },\n    {\n      \"column\": \"mfcc_3\",\n      \"properties\": {\n        \"dtype\": \"number\",\n        \"std\": 35.75841475040202,\n        \"min\": -391.77307,\n        \"max\": 100.84818,\n        \"num_unique_values\": 2398,\n        \"samples\": [\n          -9.035332,\n          24.029919,\n          3.6334522\n        ],\n        \"semantic_type\": \"\",\n        \"description\": \"\"\n      }\n    },\n    {\n      \"column\": \"mfcc_4\",\n      \"properties\": {\n        \"dtype\": \"number\",\n        \"std\": 32.88738722780474,\n        \"min\": -391.77307,\n        \"max\": 137.19833,\n        \"num_unique_values\": 2398,\n        \"samples\": [\n          48.95798,\n          23.176186,\n          63.34833\n        ],\n        \"semantic_type\": \"\",\n        \"description\": \"\"\n      }\n    },\n    {\n      \"column\": \"mfcc_5\",\n      \"properties\": {\n        \"dtype\": \"number\",\n        \"std\": 20.188730939442962,\n        \"min\": -391.77307,\n        \"max\": 50.76541,\n        \"num_unique_values\": 2398,\n        \"samples\": [\n          -28.344318,\n          22.045252,\n          -28.91119\n        ],\n        \"semantic_type\": \"\",\n        \"description\": \"\"\n      }\n    },\n    {\n      \"column\": \"mfcc_6\",\n      \"properties\": {\n        \"dtype\": \"number\",\n        \"std\": 23.019362962950005,\n        \"min\": -391.77307,\n        \"max\": 42.903473,\n        \"num_unique_values\": 2398,\n        \"samples\": [\n          -25.210247,\n          20.69386,\n          -43.004272\n        ],\n        \"semantic_type\": \"\",\n        \"description\": \"\"\n      }\n    },\n    {\n      \"column\": \"mfcc_7\",\n      \"properties\": {\n        \"dtype\": \"number\",\n        \"std\": 19.718428928052827,\n        \"min\": -391.77307,\n        \"max\": 32.142876,\n        \"num_unique_values\": 2398,\n        \"samples\": [\n          22.24498,\n          19.185295,\n          -0.5819653\n        ],\n        \"semantic_type\": \"\",\n        \"description\": \"\"\n      }\n    },\n    {\n      \"column\": \"mfcc_8\",\n      \"properties\": {\n        \"dtype\": \"number\",\n        \"std\": 16.7692176325212,\n        \"min\": -60.58084,\n        \"max\": 36.263535,\n        \"num_unique_values\": 2398,\n        \"samples\": [\n          -13.374678,\n          17.583838,\n          -38.012253\n        ],\n        \"semantic_type\": \"\",\n        \"description\": \"\"\n      }\n    },\n    {\n      \"column\": \"mfcc_9\",\n      \"properties\": {\n        \"dtype\": \"number\",\n        \"std\": 17.96149500584218,\n        \"min\": -69.17085,\n        \"max\": 22.165905,\n        \"num_unique_values\": 2398,\n        \"samples\": [\n          -18.588879,\n          15.949598,\n          -44.809452\n        ],\n        \"semantic_type\": \"\",\n        \"description\": \"\"\n      }\n    },\n    {\n      \"column\": \"mfcc_10\",\n      \"properties\": {\n        \"dtype\": \"number\",\n        \"std\": 14.642961367871324,\n        \"min\": -58.20787,\n        \"max\": 34.32309,\n        \"num_unique_values\": 2398,\n        \"samples\": [\n          0.5355731,\n          14.334327,\n          -33.100685\n        ],\n        \"semantic_type\": \"\",\n        \"description\": \"\"\n      }\n    },\n    {\n      \"column\": \"mfcc_11\",\n      \"properties\": {\n        \"dtype\": \"number\",\n        \"std\": 10.37626419911659,\n        \"min\": -49.76759,\n        \"max\": 25.8757,\n        \"num_unique_values\": 2398,\n        \"samples\": [\n          -9.768154,\n          12.778671,\n          -10.095245\n        ],\n        \"semantic_type\": \"\",\n        \"description\": \"\"\n      }\n    },\n    {\n      \"column\": \"mfcc_12\",\n      \"properties\": {\n        \"dtype\": \"number\",\n        \"std\": 13.029205106224238,\n        \"min\": -45.954124,\n        \"max\": 21.72023,\n        \"num_unique_values\": 2398,\n        \"samples\": [\n          -5.492506,\n          11.31101,\n          -12.382319\n        ],\n        \"semantic_type\": \"\",\n        \"description\": \"\"\n      }\n    },\n    {\n      \"column\": \"mfcc_13\",\n      \"properties\": {\n        \"dtype\": \"number\",\n        \"std\": 12.36603500668687,\n        \"min\": -48.558662,\n        \"max\": 23.828966,\n        \"num_unique_values\": 2398,\n        \"samples\": [\n          -11.405027,\n          9.947968,\n          -27.599293\n        ],\n        \"semantic_type\": \"\",\n        \"description\": \"\"\n      }\n    },\n    {\n      \"column\": \"label\",\n      \"properties\": {\n        \"dtype\": \"number\",\n        \"std\": 0,\n        \"min\": 0,\n        \"max\": 1,\n        \"num_unique_values\": 2,\n        \"samples\": [\n          0,\n          1\n        ],\n        \"semantic_type\": \"\",\n        \"description\": \"\"\n      }\n    }\n  ]\n}"
            }
          },
          "metadata": {},
          "execution_count": 7
        }
      ]
    },
    {
      "cell_type": "markdown",
      "source": [
        "# Data Cleaning\n",
        "\n",
        "dropping any null or missing values\n",
        "\n",
        "Shuffling the dataset to even out any undetected patterns"
      ],
      "metadata": {
        "id": "iO5Ruu8a8TPP"
      }
    },
    {
      "cell_type": "code",
      "source": [
        "dataset = dataset.dropna()"
      ],
      "metadata": {
        "id": "Io0OFxLVOlMP"
      },
      "execution_count": null,
      "outputs": []
    },
    {
      "cell_type": "code",
      "source": [
        "dataset = dataset.iloc[:-1500]"
      ],
      "metadata": {
        "id": "Z98-1A8HxWyQ"
      },
      "execution_count": null,
      "outputs": []
    },
    {
      "cell_type": "code",
      "source": [
        "dataset.shape"
      ],
      "metadata": {
        "colab": {
          "base_uri": "https://localhost:8080/"
        },
        "id": "n-bGHMZL2igE",
        "outputId": "34b06e91-26be-4350-bd37-31176059ca64"
      },
      "execution_count": null,
      "outputs": [
        {
          "output_type": "execute_result",
          "data": {
            "text/plain": [
              "(900, 14)"
            ]
          },
          "metadata": {},
          "execution_count": 10
        }
      ]
    },
    {
      "cell_type": "code",
      "source": [
        "dataset = dataset.sample(frac=1, random_state=42)"
      ],
      "metadata": {
        "id": "jmNeU4DhxqYb"
      },
      "execution_count": null,
      "outputs": []
    },
    {
      "cell_type": "code",
      "source": [
        "dataset.head()"
      ],
      "metadata": {
        "colab": {
          "base_uri": "https://localhost:8080/",
          "height": 226
        },
        "id": "cXxq3vnWxwMf",
        "outputId": "26aa756f-c3ca-47e1-a19b-faffdc9eeead"
      },
      "execution_count": null,
      "outputs": [
        {
          "output_type": "execute_result",
          "data": {
            "text/plain": [
              "        mfcc_1      mfcc_2     mfcc_3     mfcc_4     mfcc_5     mfcc_6  \\\n",
              "70  -391.46310  138.320890  20.896925  42.821190   2.257043  33.483746   \n",
              "827 -459.05954  113.181030   6.499062 -61.953896 -46.613390   6.172681   \n",
              "231 -602.88720   88.080810  42.404670   5.144759  -3.751316   8.077319   \n",
              "588 -390.75314   39.451096 -34.520485  26.214792  14.425735  11.543501   \n",
              "39  -675.30084    6.349901   6.331369   6.300678   6.258112   6.204061   \n",
              "\n",
              "        mfcc_7     mfcc_8     mfcc_9    mfcc_10    mfcc_11    mfcc_12  \\\n",
              "70   15.232629   8.111080 -19.010029  11.675997   3.818449   4.493797   \n",
              "827  -8.654583 -11.280484 -28.462494 -23.291138  -1.199054 -11.657105   \n",
              "231  19.124317  17.316893   8.158309   3.439335   7.048530  13.118427   \n",
              "588 -10.489061 -11.154474 -25.072418 -22.728935 -16.824110  -3.816457   \n",
              "39    6.139020   6.063579   5.978406   5.884234   5.781874   5.672169   \n",
              "\n",
              "       mfcc_13  label  \n",
              "70   14.563364      1  \n",
              "827  -4.537832      0  \n",
              "231  14.694418      1  \n",
              "588 -13.524448      0  \n",
              "39    5.555998      1  "
            ],
            "text/html": [
              "\n",
              "  <div id=\"df-2917a513-e834-4a8a-8eb8-584fce68786b\" class=\"colab-df-container\">\n",
              "    <div>\n",
              "<style scoped>\n",
              "    .dataframe tbody tr th:only-of-type {\n",
              "        vertical-align: middle;\n",
              "    }\n",
              "\n",
              "    .dataframe tbody tr th {\n",
              "        vertical-align: top;\n",
              "    }\n",
              "\n",
              "    .dataframe thead th {\n",
              "        text-align: right;\n",
              "    }\n",
              "</style>\n",
              "<table border=\"1\" class=\"dataframe\">\n",
              "  <thead>\n",
              "    <tr style=\"text-align: right;\">\n",
              "      <th></th>\n",
              "      <th>mfcc_1</th>\n",
              "      <th>mfcc_2</th>\n",
              "      <th>mfcc_3</th>\n",
              "      <th>mfcc_4</th>\n",
              "      <th>mfcc_5</th>\n",
              "      <th>mfcc_6</th>\n",
              "      <th>mfcc_7</th>\n",
              "      <th>mfcc_8</th>\n",
              "      <th>mfcc_9</th>\n",
              "      <th>mfcc_10</th>\n",
              "      <th>mfcc_11</th>\n",
              "      <th>mfcc_12</th>\n",
              "      <th>mfcc_13</th>\n",
              "      <th>label</th>\n",
              "    </tr>\n",
              "  </thead>\n",
              "  <tbody>\n",
              "    <tr>\n",
              "      <th>70</th>\n",
              "      <td>-391.46310</td>\n",
              "      <td>138.320890</td>\n",
              "      <td>20.896925</td>\n",
              "      <td>42.821190</td>\n",
              "      <td>2.257043</td>\n",
              "      <td>33.483746</td>\n",
              "      <td>15.232629</td>\n",
              "      <td>8.111080</td>\n",
              "      <td>-19.010029</td>\n",
              "      <td>11.675997</td>\n",
              "      <td>3.818449</td>\n",
              "      <td>4.493797</td>\n",
              "      <td>14.563364</td>\n",
              "      <td>1</td>\n",
              "    </tr>\n",
              "    <tr>\n",
              "      <th>827</th>\n",
              "      <td>-459.05954</td>\n",
              "      <td>113.181030</td>\n",
              "      <td>6.499062</td>\n",
              "      <td>-61.953896</td>\n",
              "      <td>-46.613390</td>\n",
              "      <td>6.172681</td>\n",
              "      <td>-8.654583</td>\n",
              "      <td>-11.280484</td>\n",
              "      <td>-28.462494</td>\n",
              "      <td>-23.291138</td>\n",
              "      <td>-1.199054</td>\n",
              "      <td>-11.657105</td>\n",
              "      <td>-4.537832</td>\n",
              "      <td>0</td>\n",
              "    </tr>\n",
              "    <tr>\n",
              "      <th>231</th>\n",
              "      <td>-602.88720</td>\n",
              "      <td>88.080810</td>\n",
              "      <td>42.404670</td>\n",
              "      <td>5.144759</td>\n",
              "      <td>-3.751316</td>\n",
              "      <td>8.077319</td>\n",
              "      <td>19.124317</td>\n",
              "      <td>17.316893</td>\n",
              "      <td>8.158309</td>\n",
              "      <td>3.439335</td>\n",
              "      <td>7.048530</td>\n",
              "      <td>13.118427</td>\n",
              "      <td>14.694418</td>\n",
              "      <td>1</td>\n",
              "    </tr>\n",
              "    <tr>\n",
              "      <th>588</th>\n",
              "      <td>-390.75314</td>\n",
              "      <td>39.451096</td>\n",
              "      <td>-34.520485</td>\n",
              "      <td>26.214792</td>\n",
              "      <td>14.425735</td>\n",
              "      <td>11.543501</td>\n",
              "      <td>-10.489061</td>\n",
              "      <td>-11.154474</td>\n",
              "      <td>-25.072418</td>\n",
              "      <td>-22.728935</td>\n",
              "      <td>-16.824110</td>\n",
              "      <td>-3.816457</td>\n",
              "      <td>-13.524448</td>\n",
              "      <td>0</td>\n",
              "    </tr>\n",
              "    <tr>\n",
              "      <th>39</th>\n",
              "      <td>-675.30084</td>\n",
              "      <td>6.349901</td>\n",
              "      <td>6.331369</td>\n",
              "      <td>6.300678</td>\n",
              "      <td>6.258112</td>\n",
              "      <td>6.204061</td>\n",
              "      <td>6.139020</td>\n",
              "      <td>6.063579</td>\n",
              "      <td>5.978406</td>\n",
              "      <td>5.884234</td>\n",
              "      <td>5.781874</td>\n",
              "      <td>5.672169</td>\n",
              "      <td>5.555998</td>\n",
              "      <td>1</td>\n",
              "    </tr>\n",
              "  </tbody>\n",
              "</table>\n",
              "</div>\n",
              "    <div class=\"colab-df-buttons\">\n",
              "\n",
              "  <div class=\"colab-df-container\">\n",
              "    <button class=\"colab-df-convert\" onclick=\"convertToInteractive('df-2917a513-e834-4a8a-8eb8-584fce68786b')\"\n",
              "            title=\"Convert this dataframe to an interactive table.\"\n",
              "            style=\"display:none;\">\n",
              "\n",
              "  <svg xmlns=\"http://www.w3.org/2000/svg\" height=\"24px\" viewBox=\"0 -960 960 960\">\n",
              "    <path d=\"M120-120v-720h720v720H120Zm60-500h600v-160H180v160Zm220 220h160v-160H400v160Zm0 220h160v-160H400v160ZM180-400h160v-160H180v160Zm440 0h160v-160H620v160ZM180-180h160v-160H180v160Zm440 0h160v-160H620v160Z\"/>\n",
              "  </svg>\n",
              "    </button>\n",
              "\n",
              "  <style>\n",
              "    .colab-df-container {\n",
              "      display:flex;\n",
              "      gap: 12px;\n",
              "    }\n",
              "\n",
              "    .colab-df-convert {\n",
              "      background-color: #E8F0FE;\n",
              "      border: none;\n",
              "      border-radius: 50%;\n",
              "      cursor: pointer;\n",
              "      display: none;\n",
              "      fill: #1967D2;\n",
              "      height: 32px;\n",
              "      padding: 0 0 0 0;\n",
              "      width: 32px;\n",
              "    }\n",
              "\n",
              "    .colab-df-convert:hover {\n",
              "      background-color: #E2EBFA;\n",
              "      box-shadow: 0px 1px 2px rgba(60, 64, 67, 0.3), 0px 1px 3px 1px rgba(60, 64, 67, 0.15);\n",
              "      fill: #174EA6;\n",
              "    }\n",
              "\n",
              "    .colab-df-buttons div {\n",
              "      margin-bottom: 4px;\n",
              "    }\n",
              "\n",
              "    [theme=dark] .colab-df-convert {\n",
              "      background-color: #3B4455;\n",
              "      fill: #D2E3FC;\n",
              "    }\n",
              "\n",
              "    [theme=dark] .colab-df-convert:hover {\n",
              "      background-color: #434B5C;\n",
              "      box-shadow: 0px 1px 3px 1px rgba(0, 0, 0, 0.15);\n",
              "      filter: drop-shadow(0px 1px 2px rgba(0, 0, 0, 0.3));\n",
              "      fill: #FFFFFF;\n",
              "    }\n",
              "  </style>\n",
              "\n",
              "    <script>\n",
              "      const buttonEl =\n",
              "        document.querySelector('#df-2917a513-e834-4a8a-8eb8-584fce68786b button.colab-df-convert');\n",
              "      buttonEl.style.display =\n",
              "        google.colab.kernel.accessAllowed ? 'block' : 'none';\n",
              "\n",
              "      async function convertToInteractive(key) {\n",
              "        const element = document.querySelector('#df-2917a513-e834-4a8a-8eb8-584fce68786b');\n",
              "        const dataTable =\n",
              "          await google.colab.kernel.invokeFunction('convertToInteractive',\n",
              "                                                    [key], {});\n",
              "        if (!dataTable) return;\n",
              "\n",
              "        const docLinkHtml = 'Like what you see? Visit the ' +\n",
              "          '<a target=\"_blank\" href=https://colab.research.google.com/notebooks/data_table.ipynb>data table notebook</a>'\n",
              "          + ' to learn more about interactive tables.';\n",
              "        element.innerHTML = '';\n",
              "        dataTable['output_type'] = 'display_data';\n",
              "        await google.colab.output.renderOutput(dataTable, element);\n",
              "        const docLink = document.createElement('div');\n",
              "        docLink.innerHTML = docLinkHtml;\n",
              "        element.appendChild(docLink);\n",
              "      }\n",
              "    </script>\n",
              "  </div>\n",
              "\n",
              "\n",
              "<div id=\"df-17dd17ed-a5ec-47ee-9385-459cce252906\">\n",
              "  <button class=\"colab-df-quickchart\" onclick=\"quickchart('df-17dd17ed-a5ec-47ee-9385-459cce252906')\"\n",
              "            title=\"Suggest charts\"\n",
              "            style=\"display:none;\">\n",
              "\n",
              "<svg xmlns=\"http://www.w3.org/2000/svg\" height=\"24px\"viewBox=\"0 0 24 24\"\n",
              "     width=\"24px\">\n",
              "    <g>\n",
              "        <path d=\"M19 3H5c-1.1 0-2 .9-2 2v14c0 1.1.9 2 2 2h14c1.1 0 2-.9 2-2V5c0-1.1-.9-2-2-2zM9 17H7v-7h2v7zm4 0h-2V7h2v10zm4 0h-2v-4h2v4z\"/>\n",
              "    </g>\n",
              "</svg>\n",
              "  </button>\n",
              "\n",
              "<style>\n",
              "  .colab-df-quickchart {\n",
              "      --bg-color: #E8F0FE;\n",
              "      --fill-color: #1967D2;\n",
              "      --hover-bg-color: #E2EBFA;\n",
              "      --hover-fill-color: #174EA6;\n",
              "      --disabled-fill-color: #AAA;\n",
              "      --disabled-bg-color: #DDD;\n",
              "  }\n",
              "\n",
              "  [theme=dark] .colab-df-quickchart {\n",
              "      --bg-color: #3B4455;\n",
              "      --fill-color: #D2E3FC;\n",
              "      --hover-bg-color: #434B5C;\n",
              "      --hover-fill-color: #FFFFFF;\n",
              "      --disabled-bg-color: #3B4455;\n",
              "      --disabled-fill-color: #666;\n",
              "  }\n",
              "\n",
              "  .colab-df-quickchart {\n",
              "    background-color: var(--bg-color);\n",
              "    border: none;\n",
              "    border-radius: 50%;\n",
              "    cursor: pointer;\n",
              "    display: none;\n",
              "    fill: var(--fill-color);\n",
              "    height: 32px;\n",
              "    padding: 0;\n",
              "    width: 32px;\n",
              "  }\n",
              "\n",
              "  .colab-df-quickchart:hover {\n",
              "    background-color: var(--hover-bg-color);\n",
              "    box-shadow: 0 1px 2px rgba(60, 64, 67, 0.3), 0 1px 3px 1px rgba(60, 64, 67, 0.15);\n",
              "    fill: var(--button-hover-fill-color);\n",
              "  }\n",
              "\n",
              "  .colab-df-quickchart-complete:disabled,\n",
              "  .colab-df-quickchart-complete:disabled:hover {\n",
              "    background-color: var(--disabled-bg-color);\n",
              "    fill: var(--disabled-fill-color);\n",
              "    box-shadow: none;\n",
              "  }\n",
              "\n",
              "  .colab-df-spinner {\n",
              "    border: 2px solid var(--fill-color);\n",
              "    border-color: transparent;\n",
              "    border-bottom-color: var(--fill-color);\n",
              "    animation:\n",
              "      spin 1s steps(1) infinite;\n",
              "  }\n",
              "\n",
              "  @keyframes spin {\n",
              "    0% {\n",
              "      border-color: transparent;\n",
              "      border-bottom-color: var(--fill-color);\n",
              "      border-left-color: var(--fill-color);\n",
              "    }\n",
              "    20% {\n",
              "      border-color: transparent;\n",
              "      border-left-color: var(--fill-color);\n",
              "      border-top-color: var(--fill-color);\n",
              "    }\n",
              "    30% {\n",
              "      border-color: transparent;\n",
              "      border-left-color: var(--fill-color);\n",
              "      border-top-color: var(--fill-color);\n",
              "      border-right-color: var(--fill-color);\n",
              "    }\n",
              "    40% {\n",
              "      border-color: transparent;\n",
              "      border-right-color: var(--fill-color);\n",
              "      border-top-color: var(--fill-color);\n",
              "    }\n",
              "    60% {\n",
              "      border-color: transparent;\n",
              "      border-right-color: var(--fill-color);\n",
              "    }\n",
              "    80% {\n",
              "      border-color: transparent;\n",
              "      border-right-color: var(--fill-color);\n",
              "      border-bottom-color: var(--fill-color);\n",
              "    }\n",
              "    90% {\n",
              "      border-color: transparent;\n",
              "      border-bottom-color: var(--fill-color);\n",
              "    }\n",
              "  }\n",
              "</style>\n",
              "\n",
              "  <script>\n",
              "    async function quickchart(key) {\n",
              "      const quickchartButtonEl =\n",
              "        document.querySelector('#' + key + ' button');\n",
              "      quickchartButtonEl.disabled = true;  // To prevent multiple clicks.\n",
              "      quickchartButtonEl.classList.add('colab-df-spinner');\n",
              "      try {\n",
              "        const charts = await google.colab.kernel.invokeFunction(\n",
              "            'suggestCharts', [key], {});\n",
              "      } catch (error) {\n",
              "        console.error('Error during call to suggestCharts:', error);\n",
              "      }\n",
              "      quickchartButtonEl.classList.remove('colab-df-spinner');\n",
              "      quickchartButtonEl.classList.add('colab-df-quickchart-complete');\n",
              "    }\n",
              "    (() => {\n",
              "      let quickchartButtonEl =\n",
              "        document.querySelector('#df-17dd17ed-a5ec-47ee-9385-459cce252906 button');\n",
              "      quickchartButtonEl.style.display =\n",
              "        google.colab.kernel.accessAllowed ? 'block' : 'none';\n",
              "    })();\n",
              "  </script>\n",
              "</div>\n",
              "\n",
              "    </div>\n",
              "  </div>\n"
            ],
            "application/vnd.google.colaboratory.intrinsic+json": {
              "type": "dataframe",
              "variable_name": "dataset",
              "summary": "{\n  \"name\": \"dataset\",\n  \"rows\": 900,\n  \"fields\": [\n    {\n      \"column\": \"mfcc_1\",\n      \"properties\": {\n        \"dtype\": \"number\",\n        \"std\": 141.97366914017957,\n        \"min\": -678.2293,\n        \"max\": -203.2891,\n        \"num_unique_values\": 899,\n        \"samples\": [\n          -547.2276,\n          -665.5358,\n          -677.3214\n        ],\n        \"semantic_type\": \"\",\n        \"description\": \"\"\n      }\n    },\n    {\n      \"column\": \"mfcc_2\",\n      \"properties\": {\n        \"dtype\": \"number\",\n        \"std\": 75.34064047040619,\n        \"min\": -97.12962,\n        \"max\": 240.34714,\n        \"num_unique_values\": 899,\n        \"samples\": [\n          26.946947,\n          19.413712,\n          3.467749\n        ],\n        \"semantic_type\": \"\",\n        \"description\": \"\"\n      }\n    },\n    {\n      \"column\": \"mfcc_3\",\n      \"properties\": {\n        \"dtype\": \"number\",\n        \"std\": 30.015289892205978,\n        \"min\": -142.9881,\n        \"max\": 100.84818,\n        \"num_unique_values\": 899,\n        \"samples\": [\n          6.1515055,\n          17.436459,\n          3.3790298\n        ],\n        \"semantic_type\": \"\",\n        \"description\": \"\"\n      }\n    },\n    {\n      \"column\": \"mfcc_4\",\n      \"properties\": {\n        \"dtype\": \"number\",\n        \"std\": 29.782175248221005,\n        \"min\": -63.67319,\n        \"max\": 137.19833,\n        \"num_unique_values\": 899,\n        \"samples\": [\n          6.201539,\n          14.936073,\n          3.243105\n        ],\n        \"semantic_type\": \"\",\n        \"description\": \"\"\n      }\n    },\n    {\n      \"column\": \"mfcc_5\",\n      \"properties\": {\n        \"dtype\": \"number\",\n        \"std\": 17.513510446360595,\n        \"min\": -61.08574,\n        \"max\": 46.448624,\n        \"num_unique_values\": 899,\n        \"samples\": [\n          6.630352,\n          12.698221,\n          3.0760982\n        ],\n        \"semantic_type\": \"\",\n        \"description\": \"\"\n      }\n    },\n    {\n      \"column\": \"mfcc_6\",\n      \"properties\": {\n        \"dtype\": \"number\",\n        \"std\": 21.172184723733235,\n        \"min\": -87.38724,\n        \"max\": 39.06706,\n        \"num_unique_values\": 899,\n        \"samples\": [\n          -9.0552025,\n          11.222375,\n          2.8973067\n        ],\n        \"semantic_type\": \"\",\n        \"description\": \"\"\n      }\n    },\n    {\n      \"column\": \"mfcc_7\",\n      \"properties\": {\n        \"dtype\": \"number\",\n        \"std\": 17.426879507731925,\n        \"min\": -66.08695,\n        \"max\": 32.142876,\n        \"num_unique_values\": 899,\n        \"samples\": [\n          -17.61092,\n          10.507639,\n          2.726457\n        ],\n        \"semantic_type\": \"\",\n        \"description\": \"\"\n      }\n    },\n    {\n      \"column\": \"mfcc_8\",\n      \"properties\": {\n        \"dtype\": \"number\",\n        \"std\": 16.61968958711811,\n        \"min\": -57.995636,\n        \"max\": 32.413864,\n        \"num_unique_values\": 899,\n        \"samples\": [\n          -19.161587,\n          10.100508,\n          2.5809534\n        ],\n        \"semantic_type\": \"\",\n        \"description\": \"\"\n      }\n    },\n    {\n      \"column\": \"mfcc_9\",\n      \"properties\": {\n        \"dtype\": \"number\",\n        \"std\": 17.946967689898074,\n        \"min\": -67.99261,\n        \"max\": 22.165905,\n        \"num_unique_values\": 899,\n        \"samples\": [\n          -20.886036,\n          9.376383,\n          2.4734366\n        ],\n        \"semantic_type\": \"\",\n        \"description\": \"\"\n      }\n    },\n    {\n      \"column\": \"mfcc_10\",\n      \"properties\": {\n        \"dtype\": \"number\",\n        \"std\": 15.480633788652591,\n        \"min\": -51.492126,\n        \"max\": 34.32309,\n        \"num_unique_values\": 899,\n        \"samples\": [\n          -7.5675325,\n          7.907032,\n          2.4100547\n        ],\n        \"semantic_type\": \"\",\n        \"description\": \"\"\n      }\n    },\n    {\n      \"column\": \"mfcc_11\",\n      \"properties\": {\n        \"dtype\": \"number\",\n        \"std\": 11.373825459208877,\n        \"min\": -46.08721,\n        \"max\": 24.24411,\n        \"num_unique_values\": 899,\n        \"samples\": [\n          -7.0103555,\n          5.7227144,\n          2.3896508\n        ],\n        \"semantic_type\": \"\",\n        \"description\": \"\"\n      }\n    },\n    {\n      \"column\": \"mfcc_12\",\n      \"properties\": {\n        \"dtype\": \"number\",\n        \"std\": 14.152867619411788,\n        \"min\": -42.044468,\n        \"max\": 21.06389,\n        \"num_unique_values\": 899,\n        \"samples\": [\n          -6.6412134,\n          3.3326607,\n          2.404023\n        ],\n        \"semantic_type\": \"\",\n        \"description\": \"\"\n      }\n    },\n    {\n      \"column\": \"mfcc_13\",\n      \"properties\": {\n        \"dtype\": \"number\",\n        \"std\": 13.244195277653846,\n        \"min\": -48.558662,\n        \"max\": 23.828966,\n        \"num_unique_values\": 899,\n        \"samples\": [\n          -15.34435,\n          1.4917088,\n          2.4391832\n        ],\n        \"semantic_type\": \"\",\n        \"description\": \"\"\n      }\n    },\n    {\n      \"column\": \"label\",\n      \"properties\": {\n        \"dtype\": \"number\",\n        \"std\": 0,\n        \"min\": 0,\n        \"max\": 1,\n        \"num_unique_values\": 2,\n        \"samples\": [\n          0,\n          1\n        ],\n        \"semantic_type\": \"\",\n        \"description\": \"\"\n      }\n    }\n  ]\n}"
            }
          },
          "metadata": {},
          "execution_count": 12
        }
      ]
    },
    {
      "cell_type": "code",
      "source": [
        "dataset['label'].value_counts()"
      ],
      "metadata": {
        "colab": {
          "base_uri": "https://localhost:8080/"
        },
        "id": "3qqCOTSfOvwu",
        "outputId": "726a351c-d3a9-4f22-ab8d-7b06f1fa4ae4"
      },
      "execution_count": null,
      "outputs": [
        {
          "output_type": "execute_result",
          "data": {
            "text/plain": [
              "0    469\n",
              "1    431\n",
              "Name: label, dtype: int64"
            ]
          },
          "metadata": {},
          "execution_count": 13
        }
      ]
    },
    {
      "cell_type": "code",
      "source": [
        "dataset.sum().isnull()"
      ],
      "metadata": {
        "colab": {
          "base_uri": "https://localhost:8080/"
        },
        "id": "LXYxy1LYO3qE",
        "outputId": "de9972f6-bc1a-4cbb-9a0a-a40d9b147874"
      },
      "execution_count": null,
      "outputs": [
        {
          "output_type": "execute_result",
          "data": {
            "text/plain": [
              "mfcc_1     False\n",
              "mfcc_2     False\n",
              "mfcc_3     False\n",
              "mfcc_4     False\n",
              "mfcc_5     False\n",
              "mfcc_6     False\n",
              "mfcc_7     False\n",
              "mfcc_8     False\n",
              "mfcc_9     False\n",
              "mfcc_10    False\n",
              "mfcc_11    False\n",
              "mfcc_12    False\n",
              "mfcc_13    False\n",
              "label      False\n",
              "dtype: bool"
            ]
          },
          "metadata": {},
          "execution_count": 14
        }
      ]
    },
    {
      "cell_type": "code",
      "source": [
        "dataset.sum().isna()"
      ],
      "metadata": {
        "colab": {
          "base_uri": "https://localhost:8080/"
        },
        "id": "Y8kRYQGsx9G6",
        "outputId": "61110ce9-9bdc-46d5-9215-00c93441e0ef"
      },
      "execution_count": null,
      "outputs": [
        {
          "output_type": "execute_result",
          "data": {
            "text/plain": [
              "mfcc_1     False\n",
              "mfcc_2     False\n",
              "mfcc_3     False\n",
              "mfcc_4     False\n",
              "mfcc_5     False\n",
              "mfcc_6     False\n",
              "mfcc_7     False\n",
              "mfcc_8     False\n",
              "mfcc_9     False\n",
              "mfcc_10    False\n",
              "mfcc_11    False\n",
              "mfcc_12    False\n",
              "mfcc_13    False\n",
              "label      False\n",
              "dtype: bool"
            ]
          },
          "metadata": {},
          "execution_count": 15
        }
      ]
    },
    {
      "cell_type": "code",
      "source": [
        "dataset.describe()"
      ],
      "metadata": {
        "colab": {
          "base_uri": "https://localhost:8080/",
          "height": 320
        },
        "id": "a6Aa0j0pO9Sl",
        "outputId": "6eff7f53-3b50-4ddd-df6f-a29c7be0b746"
      },
      "execution_count": null,
      "outputs": [
        {
          "output_type": "execute_result",
          "data": {
            "text/plain": [
              "           mfcc_1      mfcc_2      mfcc_3      mfcc_4      mfcc_5      mfcc_6  \\\n",
              "count  900.000000  900.000000  900.000000  900.000000  900.000000  900.000000   \n",
              "mean  -503.559818   78.404885   10.704016   16.402429   -3.413589   -7.153927   \n",
              "std    141.973669   75.340640   30.015290   29.782175   17.513510   21.172185   \n",
              "min   -678.229300  -97.129620 -142.988100  -63.673190  -61.085740  -87.387240   \n",
              "25%   -660.212763   13.207190    2.763548    4.399866  -15.736604  -16.169524   \n",
              "50%   -521.262580   54.302380   11.479020   10.365781    1.225367    0.010777   \n",
              "75%   -380.404853  137.507285   26.721488   20.980296    8.836464    6.887882   \n",
              "max   -203.289100  240.347140  100.848180  137.198330   46.448624   39.067060   \n",
              "\n",
              "           mfcc_7      mfcc_8      mfcc_9     mfcc_10     mfcc_11     mfcc_12  \\\n",
              "count  900.000000  900.000000  900.000000  900.000000  900.000000  900.000000   \n",
              "mean    -4.573741   -1.035634  -11.150923   -3.787535   -3.009722   -7.637098   \n",
              "std     17.426880   16.619690   17.946968   15.480634   11.373825   14.152868   \n",
              "min    -66.086950  -57.995636  -67.992610  -51.492126  -46.087210  -42.044468   \n",
              "25%    -13.433848  -10.566733  -22.658901  -14.476158  -10.267646  -19.944484   \n",
              "50%     -0.348597    3.006158   -7.474274    0.060859   -0.733597   -4.514553   \n",
              "75%      6.905134    9.718258    4.180364    7.475435    5.418672    4.502613   \n",
              "max     32.142876   32.413864   22.165905   34.323090   24.244110   21.063890   \n",
              "\n",
              "          mfcc_13       label  \n",
              "count  900.000000  900.000000  \n",
              "mean    -1.615873    0.478889  \n",
              "std     13.244195    0.499832  \n",
              "min    -48.558662    0.000000  \n",
              "25%     -9.984117    0.000000  \n",
              "50%      0.609886    0.000000  \n",
              "75%      7.751518    1.000000  \n",
              "max     23.828966    1.000000  "
            ],
            "text/html": [
              "\n",
              "  <div id=\"df-fb2570c8-aef4-4176-b815-f7fda08674a8\" class=\"colab-df-container\">\n",
              "    <div>\n",
              "<style scoped>\n",
              "    .dataframe tbody tr th:only-of-type {\n",
              "        vertical-align: middle;\n",
              "    }\n",
              "\n",
              "    .dataframe tbody tr th {\n",
              "        vertical-align: top;\n",
              "    }\n",
              "\n",
              "    .dataframe thead th {\n",
              "        text-align: right;\n",
              "    }\n",
              "</style>\n",
              "<table border=\"1\" class=\"dataframe\">\n",
              "  <thead>\n",
              "    <tr style=\"text-align: right;\">\n",
              "      <th></th>\n",
              "      <th>mfcc_1</th>\n",
              "      <th>mfcc_2</th>\n",
              "      <th>mfcc_3</th>\n",
              "      <th>mfcc_4</th>\n",
              "      <th>mfcc_5</th>\n",
              "      <th>mfcc_6</th>\n",
              "      <th>mfcc_7</th>\n",
              "      <th>mfcc_8</th>\n",
              "      <th>mfcc_9</th>\n",
              "      <th>mfcc_10</th>\n",
              "      <th>mfcc_11</th>\n",
              "      <th>mfcc_12</th>\n",
              "      <th>mfcc_13</th>\n",
              "      <th>label</th>\n",
              "    </tr>\n",
              "  </thead>\n",
              "  <tbody>\n",
              "    <tr>\n",
              "      <th>count</th>\n",
              "      <td>900.000000</td>\n",
              "      <td>900.000000</td>\n",
              "      <td>900.000000</td>\n",
              "      <td>900.000000</td>\n",
              "      <td>900.000000</td>\n",
              "      <td>900.000000</td>\n",
              "      <td>900.000000</td>\n",
              "      <td>900.000000</td>\n",
              "      <td>900.000000</td>\n",
              "      <td>900.000000</td>\n",
              "      <td>900.000000</td>\n",
              "      <td>900.000000</td>\n",
              "      <td>900.000000</td>\n",
              "      <td>900.000000</td>\n",
              "    </tr>\n",
              "    <tr>\n",
              "      <th>mean</th>\n",
              "      <td>-503.559818</td>\n",
              "      <td>78.404885</td>\n",
              "      <td>10.704016</td>\n",
              "      <td>16.402429</td>\n",
              "      <td>-3.413589</td>\n",
              "      <td>-7.153927</td>\n",
              "      <td>-4.573741</td>\n",
              "      <td>-1.035634</td>\n",
              "      <td>-11.150923</td>\n",
              "      <td>-3.787535</td>\n",
              "      <td>-3.009722</td>\n",
              "      <td>-7.637098</td>\n",
              "      <td>-1.615873</td>\n",
              "      <td>0.478889</td>\n",
              "    </tr>\n",
              "    <tr>\n",
              "      <th>std</th>\n",
              "      <td>141.973669</td>\n",
              "      <td>75.340640</td>\n",
              "      <td>30.015290</td>\n",
              "      <td>29.782175</td>\n",
              "      <td>17.513510</td>\n",
              "      <td>21.172185</td>\n",
              "      <td>17.426880</td>\n",
              "      <td>16.619690</td>\n",
              "      <td>17.946968</td>\n",
              "      <td>15.480634</td>\n",
              "      <td>11.373825</td>\n",
              "      <td>14.152868</td>\n",
              "      <td>13.244195</td>\n",
              "      <td>0.499832</td>\n",
              "    </tr>\n",
              "    <tr>\n",
              "      <th>min</th>\n",
              "      <td>-678.229300</td>\n",
              "      <td>-97.129620</td>\n",
              "      <td>-142.988100</td>\n",
              "      <td>-63.673190</td>\n",
              "      <td>-61.085740</td>\n",
              "      <td>-87.387240</td>\n",
              "      <td>-66.086950</td>\n",
              "      <td>-57.995636</td>\n",
              "      <td>-67.992610</td>\n",
              "      <td>-51.492126</td>\n",
              "      <td>-46.087210</td>\n",
              "      <td>-42.044468</td>\n",
              "      <td>-48.558662</td>\n",
              "      <td>0.000000</td>\n",
              "    </tr>\n",
              "    <tr>\n",
              "      <th>25%</th>\n",
              "      <td>-660.212763</td>\n",
              "      <td>13.207190</td>\n",
              "      <td>2.763548</td>\n",
              "      <td>4.399866</td>\n",
              "      <td>-15.736604</td>\n",
              "      <td>-16.169524</td>\n",
              "      <td>-13.433848</td>\n",
              "      <td>-10.566733</td>\n",
              "      <td>-22.658901</td>\n",
              "      <td>-14.476158</td>\n",
              "      <td>-10.267646</td>\n",
              "      <td>-19.944484</td>\n",
              "      <td>-9.984117</td>\n",
              "      <td>0.000000</td>\n",
              "    </tr>\n",
              "    <tr>\n",
              "      <th>50%</th>\n",
              "      <td>-521.262580</td>\n",
              "      <td>54.302380</td>\n",
              "      <td>11.479020</td>\n",
              "      <td>10.365781</td>\n",
              "      <td>1.225367</td>\n",
              "      <td>0.010777</td>\n",
              "      <td>-0.348597</td>\n",
              "      <td>3.006158</td>\n",
              "      <td>-7.474274</td>\n",
              "      <td>0.060859</td>\n",
              "      <td>-0.733597</td>\n",
              "      <td>-4.514553</td>\n",
              "      <td>0.609886</td>\n",
              "      <td>0.000000</td>\n",
              "    </tr>\n",
              "    <tr>\n",
              "      <th>75%</th>\n",
              "      <td>-380.404853</td>\n",
              "      <td>137.507285</td>\n",
              "      <td>26.721488</td>\n",
              "      <td>20.980296</td>\n",
              "      <td>8.836464</td>\n",
              "      <td>6.887882</td>\n",
              "      <td>6.905134</td>\n",
              "      <td>9.718258</td>\n",
              "      <td>4.180364</td>\n",
              "      <td>7.475435</td>\n",
              "      <td>5.418672</td>\n",
              "      <td>4.502613</td>\n",
              "      <td>7.751518</td>\n",
              "      <td>1.000000</td>\n",
              "    </tr>\n",
              "    <tr>\n",
              "      <th>max</th>\n",
              "      <td>-203.289100</td>\n",
              "      <td>240.347140</td>\n",
              "      <td>100.848180</td>\n",
              "      <td>137.198330</td>\n",
              "      <td>46.448624</td>\n",
              "      <td>39.067060</td>\n",
              "      <td>32.142876</td>\n",
              "      <td>32.413864</td>\n",
              "      <td>22.165905</td>\n",
              "      <td>34.323090</td>\n",
              "      <td>24.244110</td>\n",
              "      <td>21.063890</td>\n",
              "      <td>23.828966</td>\n",
              "      <td>1.000000</td>\n",
              "    </tr>\n",
              "  </tbody>\n",
              "</table>\n",
              "</div>\n",
              "    <div class=\"colab-df-buttons\">\n",
              "\n",
              "  <div class=\"colab-df-container\">\n",
              "    <button class=\"colab-df-convert\" onclick=\"convertToInteractive('df-fb2570c8-aef4-4176-b815-f7fda08674a8')\"\n",
              "            title=\"Convert this dataframe to an interactive table.\"\n",
              "            style=\"display:none;\">\n",
              "\n",
              "  <svg xmlns=\"http://www.w3.org/2000/svg\" height=\"24px\" viewBox=\"0 -960 960 960\">\n",
              "    <path d=\"M120-120v-720h720v720H120Zm60-500h600v-160H180v160Zm220 220h160v-160H400v160Zm0 220h160v-160H400v160ZM180-400h160v-160H180v160Zm440 0h160v-160H620v160ZM180-180h160v-160H180v160Zm440 0h160v-160H620v160Z\"/>\n",
              "  </svg>\n",
              "    </button>\n",
              "\n",
              "  <style>\n",
              "    .colab-df-container {\n",
              "      display:flex;\n",
              "      gap: 12px;\n",
              "    }\n",
              "\n",
              "    .colab-df-convert {\n",
              "      background-color: #E8F0FE;\n",
              "      border: none;\n",
              "      border-radius: 50%;\n",
              "      cursor: pointer;\n",
              "      display: none;\n",
              "      fill: #1967D2;\n",
              "      height: 32px;\n",
              "      padding: 0 0 0 0;\n",
              "      width: 32px;\n",
              "    }\n",
              "\n",
              "    .colab-df-convert:hover {\n",
              "      background-color: #E2EBFA;\n",
              "      box-shadow: 0px 1px 2px rgba(60, 64, 67, 0.3), 0px 1px 3px 1px rgba(60, 64, 67, 0.15);\n",
              "      fill: #174EA6;\n",
              "    }\n",
              "\n",
              "    .colab-df-buttons div {\n",
              "      margin-bottom: 4px;\n",
              "    }\n",
              "\n",
              "    [theme=dark] .colab-df-convert {\n",
              "      background-color: #3B4455;\n",
              "      fill: #D2E3FC;\n",
              "    }\n",
              "\n",
              "    [theme=dark] .colab-df-convert:hover {\n",
              "      background-color: #434B5C;\n",
              "      box-shadow: 0px 1px 3px 1px rgba(0, 0, 0, 0.15);\n",
              "      filter: drop-shadow(0px 1px 2px rgba(0, 0, 0, 0.3));\n",
              "      fill: #FFFFFF;\n",
              "    }\n",
              "  </style>\n",
              "\n",
              "    <script>\n",
              "      const buttonEl =\n",
              "        document.querySelector('#df-fb2570c8-aef4-4176-b815-f7fda08674a8 button.colab-df-convert');\n",
              "      buttonEl.style.display =\n",
              "        google.colab.kernel.accessAllowed ? 'block' : 'none';\n",
              "\n",
              "      async function convertToInteractive(key) {\n",
              "        const element = document.querySelector('#df-fb2570c8-aef4-4176-b815-f7fda08674a8');\n",
              "        const dataTable =\n",
              "          await google.colab.kernel.invokeFunction('convertToInteractive',\n",
              "                                                    [key], {});\n",
              "        if (!dataTable) return;\n",
              "\n",
              "        const docLinkHtml = 'Like what you see? Visit the ' +\n",
              "          '<a target=\"_blank\" href=https://colab.research.google.com/notebooks/data_table.ipynb>data table notebook</a>'\n",
              "          + ' to learn more about interactive tables.';\n",
              "        element.innerHTML = '';\n",
              "        dataTable['output_type'] = 'display_data';\n",
              "        await google.colab.output.renderOutput(dataTable, element);\n",
              "        const docLink = document.createElement('div');\n",
              "        docLink.innerHTML = docLinkHtml;\n",
              "        element.appendChild(docLink);\n",
              "      }\n",
              "    </script>\n",
              "  </div>\n",
              "\n",
              "\n",
              "<div id=\"df-fd820900-eb10-4bc4-b2ed-476a643311a0\">\n",
              "  <button class=\"colab-df-quickchart\" onclick=\"quickchart('df-fd820900-eb10-4bc4-b2ed-476a643311a0')\"\n",
              "            title=\"Suggest charts\"\n",
              "            style=\"display:none;\">\n",
              "\n",
              "<svg xmlns=\"http://www.w3.org/2000/svg\" height=\"24px\"viewBox=\"0 0 24 24\"\n",
              "     width=\"24px\">\n",
              "    <g>\n",
              "        <path d=\"M19 3H5c-1.1 0-2 .9-2 2v14c0 1.1.9 2 2 2h14c1.1 0 2-.9 2-2V5c0-1.1-.9-2-2-2zM9 17H7v-7h2v7zm4 0h-2V7h2v10zm4 0h-2v-4h2v4z\"/>\n",
              "    </g>\n",
              "</svg>\n",
              "  </button>\n",
              "\n",
              "<style>\n",
              "  .colab-df-quickchart {\n",
              "      --bg-color: #E8F0FE;\n",
              "      --fill-color: #1967D2;\n",
              "      --hover-bg-color: #E2EBFA;\n",
              "      --hover-fill-color: #174EA6;\n",
              "      --disabled-fill-color: #AAA;\n",
              "      --disabled-bg-color: #DDD;\n",
              "  }\n",
              "\n",
              "  [theme=dark] .colab-df-quickchart {\n",
              "      --bg-color: #3B4455;\n",
              "      --fill-color: #D2E3FC;\n",
              "      --hover-bg-color: #434B5C;\n",
              "      --hover-fill-color: #FFFFFF;\n",
              "      --disabled-bg-color: #3B4455;\n",
              "      --disabled-fill-color: #666;\n",
              "  }\n",
              "\n",
              "  .colab-df-quickchart {\n",
              "    background-color: var(--bg-color);\n",
              "    border: none;\n",
              "    border-radius: 50%;\n",
              "    cursor: pointer;\n",
              "    display: none;\n",
              "    fill: var(--fill-color);\n",
              "    height: 32px;\n",
              "    padding: 0;\n",
              "    width: 32px;\n",
              "  }\n",
              "\n",
              "  .colab-df-quickchart:hover {\n",
              "    background-color: var(--hover-bg-color);\n",
              "    box-shadow: 0 1px 2px rgba(60, 64, 67, 0.3), 0 1px 3px 1px rgba(60, 64, 67, 0.15);\n",
              "    fill: var(--button-hover-fill-color);\n",
              "  }\n",
              "\n",
              "  .colab-df-quickchart-complete:disabled,\n",
              "  .colab-df-quickchart-complete:disabled:hover {\n",
              "    background-color: var(--disabled-bg-color);\n",
              "    fill: var(--disabled-fill-color);\n",
              "    box-shadow: none;\n",
              "  }\n",
              "\n",
              "  .colab-df-spinner {\n",
              "    border: 2px solid var(--fill-color);\n",
              "    border-color: transparent;\n",
              "    border-bottom-color: var(--fill-color);\n",
              "    animation:\n",
              "      spin 1s steps(1) infinite;\n",
              "  }\n",
              "\n",
              "  @keyframes spin {\n",
              "    0% {\n",
              "      border-color: transparent;\n",
              "      border-bottom-color: var(--fill-color);\n",
              "      border-left-color: var(--fill-color);\n",
              "    }\n",
              "    20% {\n",
              "      border-color: transparent;\n",
              "      border-left-color: var(--fill-color);\n",
              "      border-top-color: var(--fill-color);\n",
              "    }\n",
              "    30% {\n",
              "      border-color: transparent;\n",
              "      border-left-color: var(--fill-color);\n",
              "      border-top-color: var(--fill-color);\n",
              "      border-right-color: var(--fill-color);\n",
              "    }\n",
              "    40% {\n",
              "      border-color: transparent;\n",
              "      border-right-color: var(--fill-color);\n",
              "      border-top-color: var(--fill-color);\n",
              "    }\n",
              "    60% {\n",
              "      border-color: transparent;\n",
              "      border-right-color: var(--fill-color);\n",
              "    }\n",
              "    80% {\n",
              "      border-color: transparent;\n",
              "      border-right-color: var(--fill-color);\n",
              "      border-bottom-color: var(--fill-color);\n",
              "    }\n",
              "    90% {\n",
              "      border-color: transparent;\n",
              "      border-bottom-color: var(--fill-color);\n",
              "    }\n",
              "  }\n",
              "</style>\n",
              "\n",
              "  <script>\n",
              "    async function quickchart(key) {\n",
              "      const quickchartButtonEl =\n",
              "        document.querySelector('#' + key + ' button');\n",
              "      quickchartButtonEl.disabled = true;  // To prevent multiple clicks.\n",
              "      quickchartButtonEl.classList.add('colab-df-spinner');\n",
              "      try {\n",
              "        const charts = await google.colab.kernel.invokeFunction(\n",
              "            'suggestCharts', [key], {});\n",
              "      } catch (error) {\n",
              "        console.error('Error during call to suggestCharts:', error);\n",
              "      }\n",
              "      quickchartButtonEl.classList.remove('colab-df-spinner');\n",
              "      quickchartButtonEl.classList.add('colab-df-quickchart-complete');\n",
              "    }\n",
              "    (() => {\n",
              "      let quickchartButtonEl =\n",
              "        document.querySelector('#df-fd820900-eb10-4bc4-b2ed-476a643311a0 button');\n",
              "      quickchartButtonEl.style.display =\n",
              "        google.colab.kernel.accessAllowed ? 'block' : 'none';\n",
              "    })();\n",
              "  </script>\n",
              "</div>\n",
              "\n",
              "    </div>\n",
              "  </div>\n"
            ],
            "application/vnd.google.colaboratory.intrinsic+json": {
              "type": "dataframe",
              "summary": "{\n  \"name\": \"dataset\",\n  \"rows\": 8,\n  \"fields\": [\n    {\n      \"column\": \"mfcc_1\",\n      \"properties\": {\n        \"dtype\": \"number\",\n        \"std\": 532.3442785324394,\n        \"min\": -678.2293,\n        \"max\": 900.0,\n        \"num_unique_values\": 8,\n        \"samples\": [\n          -503.55981804444446,\n          -521.26258,\n          900.0\n        ],\n        \"semantic_type\": \"\",\n        \"description\": \"\"\n      }\n    },\n    {\n      \"column\": \"mfcc_2\",\n      \"properties\": {\n        \"dtype\": \"number\",\n        \"std\": 308.3046789575025,\n        \"min\": -97.12962,\n        \"max\": 900.0,\n        \"num_unique_values\": 8,\n        \"samples\": [\n          78.4048848927,\n          54.3023795,\n          900.0\n        ],\n        \"semantic_type\": \"\",\n        \"description\": \"\"\n      }\n    },\n    {\n      \"column\": \"mfcc_3\",\n      \"properties\": {\n        \"dtype\": \"number\",\n        \"std\": 323.4064567646104,\n        \"min\": -142.9881,\n        \"max\": 900.0,\n        \"num_unique_values\": 8,\n        \"samples\": [\n          10.704015979205554,\n          11.47902,\n          900.0\n        ],\n        \"semantic_type\": \"\",\n        \"description\": \"\"\n      }\n    },\n    {\n      \"column\": \"mfcc_4\",\n      \"properties\": {\n        \"dtype\": \"number\",\n        \"std\": 315.17621310184614,\n        \"min\": -63.67319,\n        \"max\": 900.0,\n        \"num_unique_values\": 8,\n        \"samples\": [\n          16.402428895394447,\n          10.365781,\n          900.0\n        ],\n        \"semantic_type\": \"\",\n        \"description\": \"\"\n      }\n    },\n    {\n      \"column\": \"mfcc_5\",\n      \"properties\": {\n        \"dtype\": \"number\",\n        \"std\": 319.9726355252843,\n        \"min\": -61.08574,\n        \"max\": 900.0,\n        \"num_unique_values\": 8,\n        \"samples\": [\n          -3.4135893829744437,\n          1.22536675,\n          900.0\n        ],\n        \"semantic_type\": \"\",\n        \"description\": \"\"\n      }\n    },\n    {\n      \"column\": \"mfcc_6\",\n      \"properties\": {\n        \"dtype\": \"number\",\n        \"std\": 322.5540165905557,\n        \"min\": -87.38724,\n        \"max\": 900.0,\n        \"num_unique_values\": 8,\n        \"samples\": [\n          -7.153926941315556,\n          0.010776818,\n          900.0\n        ],\n        \"semantic_type\": \"\",\n        \"description\": \"\"\n      }\n    },\n    {\n      \"column\": \"mfcc_7\",\n      \"properties\": {\n        \"dtype\": \"number\",\n        \"std\": 320.9135648865349,\n        \"min\": -66.08695,\n        \"max\": 900.0,\n        \"num_unique_values\": 8,\n        \"samples\": [\n          -4.57374096986,\n          -0.34859737,\n          900.0\n        ],\n        \"semantic_type\": \"\",\n        \"description\": \"\"\n      }\n    },\n    {\n      \"column\": \"mfcc_8\",\n      \"properties\": {\n        \"dtype\": \"number\",\n        \"std\": 319.69022967572994,\n        \"min\": -57.995636,\n        \"max\": 900.0,\n        \"num_unique_values\": 8,\n        \"samples\": [\n          -1.0356339891144442,\n          3.0061576,\n          900.0\n        ],\n        \"semantic_type\": \"\",\n        \"description\": \"\"\n      }\n    },\n    {\n      \"column\": \"mfcc_9\",\n      \"properties\": {\n        \"dtype\": \"number\",\n        \"std\": 322.7097212603112,\n        \"min\": -67.99261,\n        \"max\": 900.0,\n        \"num_unique_values\": 8,\n        \"samples\": [\n          -11.15092261825111,\n          -7.474273500000001,\n          900.0\n        ],\n        \"semantic_type\": \"\",\n        \"description\": \"\"\n      }\n    },\n    {\n      \"column\": \"mfcc_10\",\n      \"properties\": {\n        \"dtype\": \"number\",\n        \"std\": 319.793067060914,\n        \"min\": -51.492126,\n        \"max\": 900.0,\n        \"num_unique_values\": 8,\n        \"samples\": [\n          -3.7875349901799997,\n          0.0608594735,\n          900.0\n        ],\n        \"semantic_type\": \"\",\n        \"description\": \"\"\n      }\n    },\n    {\n      \"column\": \"mfcc_11\",\n      \"properties\": {\n        \"dtype\": \"number\",\n        \"std\": 319.81668623841693,\n        \"min\": -46.08721,\n        \"max\": 900.0,\n        \"num_unique_values\": 8,\n        \"samples\": [\n          -3.009721732207778,\n          -0.73359703,\n          900.0\n        ],\n        \"semantic_type\": \"\",\n        \"description\": \"\"\n      }\n    },\n    {\n      \"column\": \"mfcc_12\",\n      \"properties\": {\n        \"dtype\": \"number\",\n        \"std\": 320.5475595287886,\n        \"min\": -42.044468,\n        \"max\": 900.0,\n        \"num_unique_values\": 8,\n        \"samples\": [\n          -7.637098181994444,\n          -4.514552699999999,\n          900.0\n        ],\n        \"semantic_type\": \"\",\n        \"description\": \"\"\n      }\n    },\n    {\n      \"column\": \"mfcc_13\",\n      \"properties\": {\n        \"dtype\": \"number\",\n        \"std\": 319.66494589768473,\n        \"min\": -48.558662,\n        \"max\": 900.0,\n        \"num_unique_values\": 8,\n        \"samples\": [\n          -1.615873175868889,\n          0.609885625,\n          900.0\n        ],\n        \"semantic_type\": \"\",\n        \"description\": \"\"\n      }\n    },\n    {\n      \"column\": \"label\",\n      \"properties\": {\n        \"dtype\": \"number\",\n        \"std\": 318.04787552807625,\n        \"min\": 0.0,\n        \"max\": 900.0,\n        \"num_unique_values\": 5,\n        \"samples\": [\n          0.47888888888888886,\n          1.0,\n          0.49983188373791115\n        ],\n        \"semantic_type\": \"\",\n        \"description\": \"\"\n      }\n    }\n  ]\n}"
            }
          },
          "metadata": {},
          "execution_count": 16
        }
      ]
    },
    {
      "cell_type": "code",
      "source": [
        "plt.figure(figsize=(9, 9))\n",
        "correlation_matrix = dataset.corr()\n",
        "sns.heatmap(correlation_matrix, annot=True, cmap='coolwarm')\n",
        "plt.show()"
      ],
      "metadata": {
        "colab": {
          "base_uri": "https://localhost:8080/",
          "height": 803
        },
        "id": "A6SDmJH5QZvz",
        "outputId": "2a67a299-ad97-4987-88c1-cd0ecb7ca1bd"
      },
      "execution_count": null,
      "outputs": [
        {
          "output_type": "display_data",
          "data": {
            "text/plain": [
              "<Figure size 900x900 with 2 Axes>"
            ],
            "image/png": "[encoded data removed]"
          },
          "metadata": {}
        }
      ]
    },
    {
      "cell_type": "markdown",
      "source": [
        "# Training the model\n",
        "\n",
        "Decision tree classifier is used for the classification\n",
        "\n",
        "Due to data giving issues of overfitting the tree is pruned"
      ],
      "metadata": {
        "id": "OPHIywQi-Fv5"
      }
    },
    {
      "cell_type": "code",
      "source": [
        "X = dataset.drop(['label'],axis=1)\n",
        "y = dataset['label']"
      ],
      "metadata": {
        "id": "4c9VOed3RAZb"
      },
      "execution_count": null,
      "outputs": []
    },
    {
      "cell_type": "code",
      "source": [
        "model = DecisionTreeClassifier(max_depth=3,min_samples_split=2,min_samples_leaf=2,max_features='sqrt')"
      ],
      "metadata": {
        "id": "pVI13H6QRS87"
      },
      "execution_count": null,
      "outputs": []
    },
    {
      "cell_type": "code",
      "source": [
        "X_train,X_test,y_train,y_test = train_test_split(X,y,test_size=0.2,random_state=2)"
      ],
      "metadata": {
        "id": "SVKQsgIrRdp_"
      },
      "execution_count": null,
      "outputs": []
    },
    {
      "cell_type": "code",
      "source": [
        "model.fit(X_train,y_train)"
      ],
      "metadata": {
        "colab": {
          "base_uri": "https://localhost:8080/",
          "height": 74
        },
        "id": "b-m5KfEMR55u",
        "outputId": "97604fa9-a597-4d86-9064-f9ac706f04be"
      },
      "execution_count": null,
      "outputs": [
        {
          "output_type": "execute_result",
          "data": {
            "text/plain": [
              "DecisionTreeClassifier(max_depth=3, max_features='sqrt', min_samples_leaf=2)"
            ],
            "text/html": [
              "<style>#sk-container-id-1 {color: black;background-color: white;}#sk-container-id-1 pre{padding: 0;}#sk-container-id-1 div.sk-toggleable {background-color: white;}#sk-container-id-1 label.sk-toggleable__label {cursor: pointer;display: block;width: 100%;margin-bottom: 0;padding: 0.3em;box-sizing: border-box;text-align: center;}#sk-container-id-1 label.sk-toggleable__label-arrow:before {content: \"▸\";float: left;margin-right: 0.25em;color: #696969;}#sk-container-id-1 label.sk-toggleable__label-arrow:hover:before {color: black;}#sk-container-id-1 div.sk-estimator:hover label.sk-toggleable__label-arrow:before {color: black;}#sk-container-id-1 div.sk-toggleable__content {max-height: 0;max-width: 0;overflow: hidden;text-align: left;background-color: #f0f8ff;}#sk-container-id-1 div.sk-toggleable__content pre {margin: 0.2em;color: black;border-radius: 0.25em;background-color: #f0f8ff;}#sk-container-id-1 input.sk-toggleable__control:checked~div.sk-toggleable__content {max-height: 200px;max-width: 100%;overflow: auto;}#sk-container-id-1 input.sk-toggleable__control:checked~label.sk-toggleable__label-arrow:before {content: \"▾\";}#sk-container-id-1 div.sk-estimator input.sk-toggleable__control:checked~label.sk-toggleable__label {background-color: #d4ebff;}#sk-container-id-1 div.sk-label input.sk-toggleable__control:checked~label.sk-toggleable__label {background-color: #d4ebff;}#sk-container-id-1 input.sk-hidden--visually {border: 0;clip: rect(1px 1px 1px 1px);clip: rect(1px, 1px, 1px, 1px);height: 1px;margin: -1px;overflow: hidden;padding: 0;position: absolute;width: 1px;}#sk-container-id-1 div.sk-estimator {font-family: monospace;background-color: #f0f8ff;border: 1px dotted black;border-radius: 0.25em;box-sizing: border-box;margin-bottom: 0.5em;}#sk-container-id-1 div.sk-estimator:hover {background-color: #d4ebff;}#sk-container-id-1 div.sk-parallel-item::after {content: \"\";width: 100%;border-bottom: 1px solid gray;flex-grow: 1;}#sk-container-id-1 div.sk-label:hover label.sk-toggleable__label {background-color: #d4ebff;}#sk-container-id-1 div.sk-serial::before {content: \"\";position: absolute;border-left: 1px solid gray;box-sizing: border-box;top: 0;bottom: 0;left: 50%;z-index: 0;}#sk-container-id-1 div.sk-serial {display: flex;flex-direction: column;align-items: center;background-color: white;padding-right: 0.2em;padding-left: 0.2em;position: relative;}#sk-container-id-1 div.sk-item {position: relative;z-index: 1;}#sk-container-id-1 div.sk-parallel {display: flex;align-items: stretch;justify-content: center;background-color: white;position: relative;}#sk-container-id-1 div.sk-item::before, #sk-container-id-1 div.sk-parallel-item::before {content: \"\";position: absolute;border-left: 1px solid gray;box-sizing: border-box;top: 0;bottom: 0;left: 50%;z-index: -1;}#sk-container-id-1 div.sk-parallel-item {display: flex;flex-direction: column;z-index: 1;position: relative;background-color: white;}#sk-container-id-1 div.sk-parallel-item:first-child::after {align-self: flex-end;width: 50%;}#sk-container-id-1 div.sk-parallel-item:last-child::after {align-self: flex-start;width: 50%;}#sk-container-id-1 div.sk-parallel-item:only-child::after {width: 0;}#sk-container-id-1 div.sk-dashed-wrapped {border: 1px dashed gray;margin: 0 0.4em 0.5em 0.4em;box-sizing: border-box;padding-bottom: 0.4em;background-color: white;}#sk-container-id-1 div.sk-label label {font-family: monospace;font-weight: bold;display: inline-block;line-height: 1.2em;}#sk-container-id-1 div.sk-label-container {text-align: center;}#sk-container-id-1 div.sk-container {/* jupyter's `normalize.less` sets `[hidden] { display: none; }` but bootstrap.min.css set `[hidden] { display: none !important; }` so we also need the `!important` here to be able to override the default hidden behavior on the sphinx rendered scikit-learn.org. See: https://github.com/scikit-learn/scikit-learn/issues/21755 */display: inline-block !important;position: relative;}#sk-container-id-1 div.sk-text-repr-fallback {display: none;}</style><div id=\"sk-container-id-1\" class=\"sk-top-container\"><div class=\"sk-text-repr-fallback\"><pre>DecisionTreeClassifier(max_depth=3, max_features=&#x27;sqrt&#x27;, min_samples_leaf=2)</pre><b>In a Jupyter environment, please rerun this cell to show the HTML representation or trust the notebook. <br />On GitHub, the HTML representation is unable to render, please try loading this page with nbviewer.org.</b></div><div class=\"sk-container\" hidden><div class=\"sk-item\"><div class=\"sk-estimator sk-toggleable\"><input class=\"sk-toggleable__control sk-hidden--visually\" id=\"sk-estimator-id-1\" type=\"checkbox\" checked><label for=\"sk-estimator-id-1\" class=\"sk-toggleable__label sk-toggleable__label-arrow\">DecisionTreeClassifier</label><div class=\"sk-toggleable__content\"><pre>DecisionTreeClassifier(max_depth=3, max_features=&#x27;sqrt&#x27;, min_samples_leaf=2)</pre></div></div></div></div></div>"
            ]
          },
          "metadata": {},
          "execution_count": 21
        }
      ]
    },
    {
      "cell_type": "markdown",
      "source": [
        "# Evaluating the model\n",
        "\n",
        "Accuracy --> 95.0%"
      ],
      "metadata": {
        "id": "Bin22scs-b36"
      }
    },
    {
      "cell_type": "code",
      "source": [
        "X_test_prediction = model.predict(X_test)\n",
        "test_data_accuracy = accuracy_score(X_test_prediction,y_test)\n",
        "print(test_data_accuracy*100)"
      ],
      "metadata": {
        "colab": {
          "base_uri": "https://localhost:8080/"
        },
        "id": "OcKcfiNZSmxn",
        "outputId": "fa555005-0ee9-43c9-d6c1-5451baf7582d"
      },
      "execution_count": null,
      "outputs": [
        {
          "output_type": "stream",
          "name": "stdout",
          "text": [
            "95.0\n"
          ]
        }
      ]
    },
    {
      "cell_type": "code",
      "source": [
        "from sklearn.metrics import confusion_matrix"
      ],
      "metadata": {
        "id": "DJoj9oWo6_E-"
      },
      "execution_count": null,
      "outputs": []
    },
    {
      "cell_type": "code",
      "source": [
        "conf_matrix = confusion_matrix(y_test,X_test_prediction)"
      ],
      "metadata": {
        "id": "T4RgXu5b7IB7"
      },
      "execution_count": null,
      "outputs": []
    },
    {
      "cell_type": "code",
      "source": [
        "plt.figure(figsize=(8, 6))\n",
        "sns.heatmap(conf_matrix, annot=True, fmt=\"d\", cmap=\"Greens\", cbar=False)\n",
        "plt.title(\"Confusion Matrix\")\n",
        "plt.xlabel(\"Predicted Labels\")\n",
        "plt.ylabel(\"True Labels\")\n",
        "plt.show()"
      ],
      "metadata": {
        "colab": {
          "base_uri": "https://localhost:8080/",
          "height": 564
        },
        "id": "9edBmAtq7YuN",
        "outputId": "af82cd13-b407-4294-db46-ad1c03320765"
      },
      "execution_count": null,
      "outputs": [
        {
          "output_type": "display_data",
          "data": {
            "text/plain": [
              "<Figure size 800x600 with 1 Axes>"
            ],
            "image/png": "[encoded data removed]"
          },
          "metadata": {}
        }
      ]
    },
    {
      "cell_type": "markdown",
      "source": [
        "Precision = TP/(TP+FP) = 0.988\n",
        "\n",
        "Recall = TP/(TP+FN) = 0.943\n",
        "\n",
        "Specificity = TN/(TN+FP) = 0.989\n",
        "​\n",
        "\n",
        "\n"
      ],
      "metadata": {
        "id": "xS06KcBG_kSc"
      }
    },
    {
      "cell_type": "markdown",
      "source": [
        "# Performing cross validation"
      ],
      "metadata": {
        "id": "qBSvSbQj-qDP"
      }
    },
    {
      "cell_type": "code",
      "source": [
        "from sklearn.model_selection import cross_val_score\n",
        "from sklearn.model_selection import KFold"
      ],
      "metadata": {
        "id": "DpROzNiZzMv4"
      },
      "execution_count": null,
      "outputs": []
    },
    {
      "cell_type": "code",
      "source": [
        "num_folds = 5"
      ],
      "metadata": {
        "id": "wXDmFxuCzUl4"
      },
      "execution_count": null,
      "outputs": []
    },
    {
      "cell_type": "code",
      "source": [
        "kf = KFold(n_splits=num_folds, shuffle=True, random_state=42)"
      ],
      "metadata": {
        "id": "oxcW4r_7zYMt"
      },
      "execution_count": null,
      "outputs": []
    },
    {
      "cell_type": "code",
      "source": [
        "scores = cross_val_score(model, X, y, cv=kf, scoring='accuracy')\n",
        "\n",
        "# Print the cross-validation scores\n",
        "print(\"Cross-Validation Scores:\", scores)\n",
        "\n",
        "# Print the mean and standard deviation of the scores\n",
        "print(\"Mean Accuracy:\", scores.mean())\n",
        "print(\"Standard Deviation:\", scores.std())"
      ],
      "metadata": {
        "colab": {
          "base_uri": "https://localhost:8080/"
        },
        "id": "QZpqLceZzdKQ",
        "outputId": "e130ec61-b238-4d66-c0bf-75d1e1a8724d"
      },
      "execution_count": null,
      "outputs": [
        {
          "output_type": "stream",
          "name": "stdout",
          "text": [
            "Cross-Validation Scores: [0.96111111 0.96111111 0.98333333 0.95       0.95555556]\n",
            "Mean Accuracy: 0.9622222222222222\n",
            "Standard Deviation: 0.011331154474650617\n"
          ]
        }
      ]
    },
    {
      "cell_type": "markdown",
      "source": [
        "# Hyperparameter tuning\n",
        "\n",
        "using max_depth , min_samples_split, min_samples_leaf, max_features\n",
        "\n",
        "These are all the parameters that are used for tree pruning we got the best values of these parameters through GridSearchCV"
      ],
      "metadata": {
        "id": "pP1D_-Ih-yJA"
      }
    },
    {
      "cell_type": "code",
      "source": [
        "from sklearn.model_selection import GridSearchCV"
      ],
      "metadata": {
        "id": "4N85X_HX0fAA"
      },
      "execution_count": null,
      "outputs": []
    },
    {
      "cell_type": "code",
      "source": [
        "param_grid = {\n",
        "    'max_depth': [3, 5, 7],\n",
        "    'min_samples_split': [2, 5, 10],\n",
        "    'min_samples_leaf': [1, 2, 4],\n",
        "    'max_features': ['sqrt', 'log2']\n",
        "}"
      ],
      "metadata": {
        "id": "TFvhH4oR0jpP"
      },
      "execution_count": null,
      "outputs": []
    },
    {
      "cell_type": "code",
      "source": [
        "grid_search = GridSearchCV(DecisionTreeClassifier(), param_grid, cv=kf, scoring='accuracy')\n",
        "grid_search.fit(X, y)"
      ],
      "metadata": {
        "colab": {
          "base_uri": "https://localhost:8080/",
          "height": 117
        },
        "id": "FMHfnFS60r6I",
        "outputId": "cb280781-9003-4b47-c60c-9d48e31bcee2"
      },
      "execution_count": null,
      "outputs": [
        {
          "output_type": "execute_result",
          "data": {
            "text/plain": [
              "GridSearchCV(cv=KFold(n_splits=5, random_state=42, shuffle=True),\n",
              "             estimator=DecisionTreeClassifier(),\n",
              "             param_grid={'max_depth': [3, 5, 7],\n",
              "                         'max_features': ['sqrt', 'log2'],\n",
              "                         'min_samples_leaf': [1, 2, 4],\n",
              "                         'min_samples_split': [2, 5, 10]},\n",
              "             scoring='accuracy')"
            ],
            "text/html": [
              "<style>#sk-container-id-2 {color: black;background-color: white;}#sk-container-id-2 pre{padding: 0;}#sk-container-id-2 div.sk-toggleable {background-color: white;}#sk-container-id-2 label.sk-toggleable__label {cursor: pointer;display: block;width: 100%;margin-bottom: 0;padding: 0.3em;box-sizing: border-box;text-align: center;}#sk-container-id-2 label.sk-toggleable__label-arrow:before {content: \"▸\";float: left;margin-right: 0.25em;color: #696969;}#sk-container-id-2 label.sk-toggleable__label-arrow:hover:before {color: black;}#sk-container-id-2 div.sk-estimator:hover label.sk-toggleable__label-arrow:before {color: black;}#sk-container-id-2 div.sk-toggleable__content {max-height: 0;max-width: 0;overflow: hidden;text-align: left;background-color: #f0f8ff;}#sk-container-id-2 div.sk-toggleable__content pre {margin: 0.2em;color: black;border-radius: 0.25em;background-color: #f0f8ff;}#sk-container-id-2 input.sk-toggleable__control:checked~div.sk-toggleable__content {max-height: 200px;max-width: 100%;overflow: auto;}#sk-container-id-2 input.sk-toggleable__control:checked~label.sk-toggleable__label-arrow:before {content: \"▾\";}#sk-container-id-2 div.sk-estimator input.sk-toggleable__control:checked~label.sk-toggleable__label {background-color: #d4ebff;}#sk-container-id-2 div.sk-label input.sk-toggleable__control:checked~label.sk-toggleable__label {background-color: #d4ebff;}#sk-container-id-2 input.sk-hidden--visually {border: 0;clip: rect(1px 1px 1px 1px);clip: rect(1px, 1px, 1px, 1px);height: 1px;margin: -1px;overflow: hidden;padding: 0;position: absolute;width: 1px;}#sk-container-id-2 div.sk-estimator {font-family: monospace;background-color: #f0f8ff;border: 1px dotted black;border-radius: 0.25em;box-sizing: border-box;margin-bottom: 0.5em;}#sk-container-id-2 div.sk-estimator:hover {background-color: #d4ebff;}#sk-container-id-2 div.sk-parallel-item::after {content: \"\";width: 100%;border-bottom: 1px solid gray;flex-grow: 1;}#sk-container-id-2 div.sk-label:hover label.sk-toggleable__label {background-color: #d4ebff;}#sk-container-id-2 div.sk-serial::before {content: \"\";position: absolute;border-left: 1px solid gray;box-sizing: border-box;top: 0;bottom: 0;left: 50%;z-index: 0;}#sk-container-id-2 div.sk-serial {display: flex;flex-direction: column;align-items: center;background-color: white;padding-right: 0.2em;padding-left: 0.2em;position: relative;}#sk-container-id-2 div.sk-item {position: relative;z-index: 1;}#sk-container-id-2 div.sk-parallel {display: flex;align-items: stretch;justify-content: center;background-color: white;position: relative;}#sk-container-id-2 div.sk-item::before, #sk-container-id-2 div.sk-parallel-item::before {content: \"\";position: absolute;border-left: 1px solid gray;box-sizing: border-box;top: 0;bottom: 0;left: 50%;z-index: -1;}#sk-container-id-2 div.sk-parallel-item {display: flex;flex-direction: column;z-index: 1;position: relative;background-color: white;}#sk-container-id-2 div.sk-parallel-item:first-child::after {align-self: flex-end;width: 50%;}#sk-container-id-2 div.sk-parallel-item:last-child::after {align-self: flex-start;width: 50%;}#sk-container-id-2 div.sk-parallel-item:only-child::after {width: 0;}#sk-container-id-2 div.sk-dashed-wrapped {border: 1px dashed gray;margin: 0 0.4em 0.5em 0.4em;box-sizing: border-box;padding-bottom: 0.4em;background-color: white;}#sk-container-id-2 div.sk-label label {font-family: monospace;font-weight: bold;display: inline-block;line-height: 1.2em;}#sk-container-id-2 div.sk-label-container {text-align: center;}#sk-container-id-2 div.sk-container {/* jupyter's `normalize.less` sets `[hidden] { display: none; }` but bootstrap.min.css set `[hidden] { display: none !important; }` so we also need the `!important` here to be able to override the default hidden behavior on the sphinx rendered scikit-learn.org. See: https://github.com/scikit-learn/scikit-learn/issues/21755 */display: inline-block !important;position: relative;}#sk-container-id-2 div.sk-text-repr-fallback {display: none;}</style><div id=\"sk-container-id-2\" class=\"sk-top-container\"><div class=\"sk-text-repr-fallback\"><pre>GridSearchCV(cv=KFold(n_splits=5, random_state=42, shuffle=True),\n",
              "             estimator=DecisionTreeClassifier(),\n",
              "             param_grid={&#x27;max_depth&#x27;: [3, 5, 7],\n",
              "                         &#x27;max_features&#x27;: [&#x27;sqrt&#x27;, &#x27;log2&#x27;],\n",
              "                         &#x27;min_samples_leaf&#x27;: [1, 2, 4],\n",
              "                         &#x27;min_samples_split&#x27;: [2, 5, 10]},\n",
              "             scoring=&#x27;accuracy&#x27;)</pre><b>In a Jupyter environment, please rerun this cell to show the HTML representation or trust the notebook. <br />On GitHub, the HTML representation is unable to render, please try loading this page with nbviewer.org.</b></div><div class=\"sk-container\" hidden><div class=\"sk-item sk-dashed-wrapped\"><div class=\"sk-label-container\"><div class=\"sk-label sk-toggleable\"><input class=\"sk-toggleable__control sk-hidden--visually\" id=\"sk-estimator-id-2\" type=\"checkbox\" ><label for=\"sk-estimator-id-2\" class=\"sk-toggleable__label sk-toggleable__label-arrow\">GridSearchCV</label><div class=\"sk-toggleable__content\"><pre>GridSearchCV(cv=KFold(n_splits=5, random_state=42, shuffle=True),\n",
              "             estimator=DecisionTreeClassifier(),\n",
              "             param_grid={&#x27;max_depth&#x27;: [3, 5, 7],\n",
              "                         &#x27;max_features&#x27;: [&#x27;sqrt&#x27;, &#x27;log2&#x27;],\n",
              "                         &#x27;min_samples_leaf&#x27;: [1, 2, 4],\n",
              "                         &#x27;min_samples_split&#x27;: [2, 5, 10]},\n",
              "             scoring=&#x27;accuracy&#x27;)</pre></div></div></div><div class=\"sk-parallel\"><div class=\"sk-parallel-item\"><div class=\"sk-item\"><div class=\"sk-label-container\"><div class=\"sk-label sk-toggleable\"><input class=\"sk-toggleable__control sk-hidden--visually\" id=\"sk-estimator-id-3\" type=\"checkbox\" ><label for=\"sk-estimator-id-3\" class=\"sk-toggleable__label sk-toggleable__label-arrow\">estimator: DecisionTreeClassifier</label><div class=\"sk-toggleable__content\"><pre>DecisionTreeClassifier()</pre></div></div></div><div class=\"sk-serial\"><div class=\"sk-item\"><div class=\"sk-estimator sk-toggleable\"><input class=\"sk-toggleable__control sk-hidden--visually\" id=\"sk-estimator-id-4\" type=\"checkbox\" ><label for=\"sk-estimator-id-4\" class=\"sk-toggleable__label sk-toggleable__label-arrow\">DecisionTreeClassifier</label><div class=\"sk-toggleable__content\"><pre>DecisionTreeClassifier()</pre></div></div></div></div></div></div></div></div></div></div>"
            ]
          },
          "metadata": {},
          "execution_count": 32
        }
      ]
    },
    {
      "cell_type": "code",
      "source": [
        "results_df = pd.DataFrame(grid_search.cv_results_)\n",
        "print(results_df[['params', 'mean_test_score']])"
      ],
      "metadata": {
        "colab": {
          "base_uri": "https://localhost:8080/"
        },
        "id": "_dc8cydI19z_",
        "outputId": "1c92f4f2-9fd6-4ade-adc3-d57d740fa7fe"
      },
      "execution_count": null,
      "outputs": [
        {
          "output_type": "stream",
          "name": "stdout",
          "text": [
            "                                               params  mean_test_score\n",
            "0   {'max_depth': 3, 'max_features': 'sqrt', 'min_...         0.976667\n",
            "1   {'max_depth': 3, 'max_features': 'sqrt', 'min_...         0.975556\n",
            "2   {'max_depth': 3, 'max_features': 'sqrt', 'min_...         0.942222\n",
            "3   {'max_depth': 3, 'max_features': 'sqrt', 'min_...         0.965556\n",
            "4   {'max_depth': 3, 'max_features': 'sqrt', 'min_...         0.955556\n",
            "5   {'max_depth': 3, 'max_features': 'sqrt', 'min_...         0.967778\n",
            "6   {'max_depth': 3, 'max_features': 'sqrt', 'min_...         0.957778\n",
            "7   {'max_depth': 3, 'max_features': 'sqrt', 'min_...         0.955556\n",
            "8   {'max_depth': 3, 'max_features': 'sqrt', 'min_...         0.971111\n",
            "9   {'max_depth': 3, 'max_features': 'log2', 'min_...         0.972222\n",
            "10  {'max_depth': 3, 'max_features': 'log2', 'min_...         0.972222\n",
            "11  {'max_depth': 3, 'max_features': 'log2', 'min_...         0.977778\n",
            "12  {'max_depth': 3, 'max_features': 'log2', 'min_...         0.970000\n",
            "13  {'max_depth': 3, 'max_features': 'log2', 'min_...         0.965556\n",
            "14  {'max_depth': 3, 'max_features': 'log2', 'min_...         0.971111\n",
            "15  {'max_depth': 3, 'max_features': 'log2', 'min_...         0.968889\n",
            "16  {'max_depth': 3, 'max_features': 'log2', 'min_...         0.941111\n",
            "17  {'max_depth': 3, 'max_features': 'log2', 'min_...         0.975556\n",
            "18  {'max_depth': 5, 'max_features': 'sqrt', 'min_...         0.973333\n",
            "19  {'max_depth': 5, 'max_features': 'sqrt', 'min_...         0.974444\n",
            "20  {'max_depth': 5, 'max_features': 'sqrt', 'min_...         0.982222\n",
            "21  {'max_depth': 5, 'max_features': 'sqrt', 'min_...         0.981111\n",
            "22  {'max_depth': 5, 'max_features': 'sqrt', 'min_...         0.973333\n",
            "23  {'max_depth': 5, 'max_features': 'sqrt', 'min_...         0.980000\n",
            "24  {'max_depth': 5, 'max_features': 'sqrt', 'min_...         0.973333\n",
            "25  {'max_depth': 5, 'max_features': 'sqrt', 'min_...         0.966667\n",
            "26  {'max_depth': 5, 'max_features': 'sqrt', 'min_...         0.974444\n",
            "27  {'max_depth': 5, 'max_features': 'log2', 'min_...         0.977778\n",
            "28  {'max_depth': 5, 'max_features': 'log2', 'min_...         0.981111\n",
            "29  {'max_depth': 5, 'max_features': 'log2', 'min_...         0.982222\n",
            "30  {'max_depth': 5, 'max_features': 'log2', 'min_...         0.970000\n",
            "31  {'max_depth': 5, 'max_features': 'log2', 'min_...         0.980000\n",
            "32  {'max_depth': 5, 'max_features': 'log2', 'min_...         0.982222\n",
            "33  {'max_depth': 5, 'max_features': 'log2', 'min_...         0.978889\n",
            "34  {'max_depth': 5, 'max_features': 'log2', 'min_...         0.981111\n",
            "35  {'max_depth': 5, 'max_features': 'log2', 'min_...         0.972222\n",
            "36  {'max_depth': 7, 'max_features': 'sqrt', 'min_...         0.983333\n",
            "37  {'max_depth': 7, 'max_features': 'sqrt', 'min_...         0.972222\n",
            "38  {'max_depth': 7, 'max_features': 'sqrt', 'min_...         0.980000\n",
            "39  {'max_depth': 7, 'max_features': 'sqrt', 'min_...         0.972222\n",
            "40  {'max_depth': 7, 'max_features': 'sqrt', 'min_...         0.977778\n",
            "41  {'max_depth': 7, 'max_features': 'sqrt', 'min_...         0.976667\n",
            "42  {'max_depth': 7, 'max_features': 'sqrt', 'min_...         0.965556\n",
            "43  {'max_depth': 7, 'max_features': 'sqrt', 'min_...         0.982222\n",
            "44  {'max_depth': 7, 'max_features': 'sqrt', 'min_...         0.973333\n",
            "45  {'max_depth': 7, 'max_features': 'log2', 'min_...         0.981111\n",
            "46  {'max_depth': 7, 'max_features': 'log2', 'min_...         0.983333\n",
            "47  {'max_depth': 7, 'max_features': 'log2', 'min_...         0.975556\n",
            "48  {'max_depth': 7, 'max_features': 'log2', 'min_...         0.975556\n",
            "49  {'max_depth': 7, 'max_features': 'log2', 'min_...         0.976667\n",
            "50  {'max_depth': 7, 'max_features': 'log2', 'min_...         0.974444\n",
            "51  {'max_depth': 7, 'max_features': 'log2', 'min_...         0.970000\n",
            "52  {'max_depth': 7, 'max_features': 'log2', 'min_...         0.973333\n",
            "53  {'max_depth': 7, 'max_features': 'log2', 'min_...         0.972222\n"
          ]
        }
      ]
    },
    {
      "cell_type": "markdown",
      "source": [
        "# Best values to prune the tree"
      ],
      "metadata": {
        "id": "AfxzTCAd_Jzz"
      }
    },
    {
      "cell_type": "code",
      "source": [
        "print(\"Best Hyperparameters:\", grid_search.best_params_)"
      ],
      "metadata": {
        "colab": {
          "base_uri": "https://localhost:8080/"
        },
        "id": "k1B92lrn1Fc0",
        "outputId": "a8096e02-7c1a-482f-d575-a9203f62564d"
      },
      "execution_count": null,
      "outputs": [
        {
          "output_type": "stream",
          "name": "stdout",
          "text": [
            "Best Hyperparameters: {'max_depth': 7, 'max_features': 'sqrt', 'min_samples_leaf': 1, 'min_samples_split': 2}\n"
          ]
        }
      ]
    },
    {
      "cell_type": "markdown",
      "source": [
        "# Designing a predictive model"
      ],
      "metadata": {
        "id": "bKIAlSNi_UMX"
      }
    },
    {
      "cell_type": "code",
      "source": [
        "# [-315.803,209.8507,2025869,7.566138,-27.8369,-9.66877,-7.09282,29.51933,-10.3274,33.18811,2.007608,-32.1666,19.25741]\n",
        "input_data = [-283.52698   ,   98.99438   ,   -3.029233  ,   -6.9686766 ,\n",
        "         -2.1753619 ,  -35.71373   ,  -31.066952  ,  -14.886692  ,\n",
        "         -1.1284362 ,  -11.66128   ,    1.869652  ,   -0.84416664,\n",
        "         -1.6005697 ]\n",
        "input_data_array = np.asarray(input_data)\n",
        "input_data_reshaped = input_data_array.reshape(1,-1)\n",
        "prediction = model.predict(input_data_reshaped)\n",
        "print(prediction[0])\n",
        "if(prediction[0] == 0):\n",
        "    print('The person does not have parkinsons disease')\n",
        "else:    print('The person has parkinsons disease')"
      ],
      "metadata": {
        "colab": {
          "base_uri": "https://localhost:8080/"
        },
        "id": "05Ctq8Gn3otR",
        "outputId": "f213e432-4f37-4e16-eb23-19ea46ef8c59"
      },
      "execution_count": null,
      "outputs": [
        {
          "output_type": "stream",
          "name": "stdout",
          "text": [
            "0\n",
            "The person does not have parkinsons disease\n"
          ]
        },
        {
          "output_type": "stream",
          "name": "stderr",
          "text": [
            "/usr/local/lib/python3.10/dist-packages/sklearn/base.py:439: UserWarning: X does not have valid feature names, but DecisionTreeClassifier was fitted with feature names\n",
            "  warnings.warn(\n"
          ]
        }
      ]
    }
  ]
}